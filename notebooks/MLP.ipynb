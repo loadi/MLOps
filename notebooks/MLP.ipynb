{
 "nbformat": 4,
 "nbformat_minor": 0,
 "metadata": {
  "colab": {
   "provenance": []
  },
  "kernelspec": {
   "name": "python3",
   "display_name": "Python 3 (ipykernel)",
   "language": "python"
  },
  "language_info": {
   "name": "python"
  }
 },
 "cells": [
  {
   "cell_type": "markdown",
   "source": [
    "# MLP в pytorch\n",
    "\n",
    "## Работа №2\n",
    "\n",
    "\n",
    "---\n",
    "\n",
    "ФИО: Наугольный Егор Сергеевич\n",
    "\n",
    "---\n",
    "\n",
    "Далее в ноутбуке будут пропущенны части кода с комментариями о том что необходимо написать. А также текстовые ячейки с вопросами, на которые вам необходимо дать ответы."
   ],
   "metadata": {
    "id": "R7ajN74XGqZY"
   }
  },
  {
   "cell_type": "code",
   "source": [
    "import torch\n",
    "from torchvision import datasets\n",
    "from torchvision.transforms import ToTensor\n",
    "import matplotlib.pyplot as plt\n",
    "import numpy as np\n",
    "\n",
    "# Настройки для графиков\n",
    "%matplotlib inline\n",
    "plt.rcParams['image.interpolation'] = 'nearest'\n",
    "plt.rcParams['image.cmap'] = 'gray'"
   ],
   "metadata": {
    "id": "7GNIoiJGKx2w",
    "ExecuteTime": {
     "end_time": "2025-01-01T21:57:46.451263Z",
     "start_time": "2025-01-01T21:57:44.247701Z"
    }
   },
   "outputs": [],
   "execution_count": 1
  },
  {
   "cell_type": "markdown",
   "source": [
    "**Совет по работе**\n",
    "\n",
    "Создавайте отдельные ячейки для ваших экспериментов. Пробуйте создавать небольшие тензоры и экспериментировать с ними, чтобы понять как работает та или иная функция и какие размерности данных вам требуются.\n",
    "\n",
    "Когда дойдете до цикла обучения сначала пробуйте работать с одной эпохой и ограниченным набором пакетов данных, чтобы меньше времени ожидать до обнаружения ошибки."
   ],
   "metadata": {
    "id": "gYTqVFF9LGGW"
   }
  },
  {
   "cell_type": "markdown",
   "source": [
    "## Загрузка данных\n",
    "\n",
    "Из встроенных датасетов torchvision загрузите тестовую и обучающую выборки из EMNIST часть (split) Balanced или Letters, указав приобразование для изображений используя ToTensor()."
   ],
   "metadata": {
    "id": "UXVjctUHSBKP"
   }
  },
  {
   "cell_type": "code",
   "metadata": {
    "id": "HJFO-KicGor8",
    "ExecuteTime": {
     "end_time": "2025-01-01T21:57:46.556257Z",
     "start_time": "2025-01-01T21:57:46.453443Z"
    }
   },
   "source": [
    "from mlops import dataset\n",
    "\n",
    "train_set, test_set = dataset.get_dataset()"
   ],
   "outputs": [],
   "execution_count": 2
  },
  {
   "metadata": {},
   "cell_type": "markdown",
   "source": ""
  },
  {
   "cell_type": "markdown",
   "source": [
    "Выведите информацию о количестве данных в обеих выборках, размерностях изображений, количестве классов и сами метки классов.\n",
    "\n",
    "Функция `dir()` в python возвращает список допустимых атрибутов объекта, что может вам подсказать как получить часть информации о датасете."
   ],
   "metadata": {
    "id": "IJ6cYQa7NNdz"
   }
  },
  {
   "cell_type": "code",
   "source": [
    "train_samples_len = train_set.data.shape[0]\n",
    "test_samples_len = test_set.data.shape[0]\n",
    "image_shape = tuple(train_set.data[0].shape)\n",
    "classes_len = len(train_set.classes)\n",
    "classes_labels = train_set.classes\n",
    "\n",
    "print(train_samples_len, test_samples_len, image_shape, classes_len, classes_labels)"
   ],
   "metadata": {
    "id": "Dk1iISsaNnRH",
    "ExecuteTime": {
     "end_time": "2025-01-01T21:57:46.561371Z",
     "start_time": "2025-01-01T21:57:46.556957Z"
    }
   },
   "outputs": [
    {
     "name": "stdout",
     "output_type": "stream",
     "text": [
      "124800 20800 (28, 28) 27 ['N/A', 'a', 'b', 'c', 'd', 'e', 'f', 'g', 'h', 'i', 'j', 'k', 'l', 'm', 'n', 'o', 'p', 'q', 'r', 's', 't', 'u', 'v', 'w', 'x', 'y', 'z']\n"
     ]
    }
   ],
   "execution_count": 3
  },
  {
   "cell_type": "markdown",
   "source": [
    "## Визуализация 9 случайных образцов"
   ],
   "metadata": {
    "id": "atoBJNwMR56K"
   }
  },
  {
   "cell_type": "code",
   "source": [
    "labels_map = dict(zip(range(len(train_set.classes)), train_set.classes))\n",
    "figure = plt.figure(figsize=(8, 8))\n",
    "cols, rows = 3, 3\n",
    "for i in range(1, cols * rows + 1):\n",
    "    sample_idx = torch.randint(len(train_set), size=(1,)).item()\n",
    "    img, label = train_set[sample_idx]\n",
    "    figure.add_subplot(rows, cols, i)\n",
    "    plt.title(labels_map[label])\n",
    "    plt.axis(\"off\")\n",
    "    plt.imshow(img.squeeze(), cmap=\"gray\")\n",
    "plt.show()"
   ],
   "metadata": {
    "id": "rNrmUjxpOfAg",
    "ExecuteTime": {
     "end_time": "2025-01-01T21:57:46.812204Z",
     "start_time": "2025-01-01T21:57:46.563495Z"
    }
   },
   "outputs": [
    {
     "data": {
      "text/plain": [
       "<Figure size 800x800 with 9 Axes>"
      ],
      "image/png": "[encoded data removed]"
     },
     "metadata": {},
     "output_type": "display_data"
    }
   ],
   "execution_count": 4
  },
  {
   "cell_type": "markdown",
   "source": [
    "**По представленным образцам, что вы можете сказать о них? Есть ли в них что-то необычное и это усложнит или упростит обучение модели?** (макс. 5 баллов)\n",
    "\n",
    "Ваш ответ:\n",
    "- буквы имеют разный рукописный \"шрифт\"\n",
    "- буквы имеют различную ориентацию (наклон/поворот)\n",
    "- буквы имеют разную резкость контура. Где-то контур более четкий (m) где-то более размытый (z)"
   ],
   "metadata": {
    "id": "1KV1aTiiSL6g"
   }
  },
  {
   "cell_type": "markdown",
   "source": [
    "## Создание загрузчиков данных (DataLoader)\n",
    "\n",
    "Данные при обучении модели редко передаются по одному образцу или все разом, обычно образцы объединяются в пакеты (batches) и уже они передаются на вход модели.\n",
    "\n",
    "Размер пакета (batch size) часто выбирается как $2^n$ (16, 32, 64, 128) и часто это зависит от доступной памяти.\n",
    "\n",
    "Загрузчики данных будут использоваться при обучении и тестировании модели и когда все пакеты были перебраны в датасете, это считается одной эпохой обучения. Чтобы между эпохами модель на обучалась на одинаковых пакетах их перемешивают (shuffle). При тестировании это не имеете разницы.\n",
    "\n",
    "Поэтому выберите один из размеров пакета при создании загрузчиков и для обучающего загрузчика используйте перемешивание, а тестового нет."
   ],
   "metadata": {
    "id": "Af2RGhdtS5Sn"
   }
  },
  {
   "cell_type": "code",
   "source": [
    "from mlops import features\n",
    "\n",
    "batch_size = 2 ** 4\n",
    "train_dataloader, test_dataloader = features.get_dataloaders(train_set, test_set, batch_size)"
   ],
   "metadata": {
    "id": "X2bf-p21S9KB",
    "ExecuteTime": {
     "end_time": "2025-01-01T21:57:46.816839Z",
     "start_time": "2025-01-01T21:57:46.813836Z"
    }
   },
   "outputs": [],
   "execution_count": 5
  },
  {
   "cell_type": "markdown",
   "source": [
    "**Опишите размерности данных одного пакета.** (макс. 10 баллов)\n",
    "\n",
    "Ваш ответ: (16, 1, 28, 28) (batch_size, channels, height, width"
   ],
   "metadata": {
    "id": "W6MhOraTVjmO"
   }
  },
  {
   "cell_type": "markdown",
   "source": [
    "## Многослойный перцептрон\n",
    "\n",
    "В этой работе мы еще не будем использовать все возможности pytorch по построению нейронной сети например `nn.Sequential` или `nn.Module`, это будет рассмотрено в следующем задании.\n",
    "\n",
    "Ваша задача в этой работе используя функции из модуля `torch.nn.functional` `linear` и `relu`собрать цепочку вычислений для получения выходных значений. Во входном слое не забудьте использовать для изображений `.flatten()`. Чтобы вы могли использовать батчи, вам надо подумать какую часть тензора требуется сделать \"плоской\".\n",
    "\n",
    "Вывод с последнего слоя преобразуйте с помощью Softmax.\n",
    "\n",
    "Перед тем как использовать функцию потерь от значений из Softmax возьмите логарифм (`log()`) В качестве функции потерь используйте negative log likelihood loss `nll`. Почитайте какие данные ей требуются на вход, Вам придется самостоятельно подготовить тензор с помощью `F.one_hot()`.\n",
    "\n",
    "Параметры для функций, которые будут оптимизироваться, вы создаете самостоятельно с помощью `xavier_normal`, а отклонения (bias)\n",
    "с помощью `torch.randn()` с нужными размерностями.\n",
    "\n",
    "Не забывайте, что для использования `backward()`, у оптимизируемых параметров должен быть поднят флаг requires_grad."
   ],
   "metadata": {
    "id": "rVSEAJ10WtyU"
   }
  },
  {
   "cell_type": "code",
   "source": [
    "def xavier_normal(F_in, F_out):\n",
    "    limit = np.sqrt(6 / float(F_in + F_out))\n",
    "    W = np.random.uniform(low=-limit, high=limit, size=(F_in, F_out))\n",
    "    return torch.from_numpy(W).type(torch.float32).requires_grad_()"
   ],
   "metadata": {
    "id": "mNe-EEh1zoNL",
    "ExecuteTime": {
     "end_time": "2025-01-01T21:57:46.820373Z",
     "start_time": "2025-01-01T21:57:46.817962Z"
    }
   },
   "outputs": [],
   "execution_count": 6
  },
  {
   "cell_type": "code",
   "source": [
    "from torch.nn.functional import *\n",
    "input_size = 28 * 28 \n",
    "hidden_size = 128\n",
    "output_size = classes_len\n",
    "\n",
    "\n",
    "# Инициализация параметров\n",
    "w1 = xavier_normal(hidden_size, input_size)\n",
    "b1 = torch.randn(hidden_size, requires_grad=True)\n",
    "\n",
    "w2 = xavier_normal(output_size, hidden_size)\n",
    "b2 = torch.randn(output_size, requires_grad=True)\n",
    "\n",
    "# Функция прямого прохода\n",
    "def forward(x):\n",
    "    x = x.flatten(start_dim=1)  # преобразование тензора в плоский\n",
    "    z1 = linear(x, w1, b1)   # линейное преобразование\n",
    "    a1 = relu(z1)            # ф. актив. ReLU\n",
    "    z2 = linear(a1, w2, b2)\n",
    "    return log_softmax(z2, dim=1)"
   ],
   "metadata": {
    "id": "5kDfPxwSiS1H",
    "ExecuteTime": {
     "end_time": "2025-01-01T21:57:46.826049Z",
     "start_time": "2025-01-01T21:57:46.820984Z"
    }
   },
   "outputs": [],
   "execution_count": 7
  },
  {
   "cell_type": "markdown",
   "source": [
    "**Опишите идею инициализации Ксавье. Почему могут быть проблемы с использованием torch.randn()?** (макс. 5 баллов)\n",
    "\n",
    "Ваш ответ:\n",
    "\n",
    "**Сколько параметров в вашей модели?** (макс. 5 баллов)\n",
    "\n",
    "Ваш ответ: \n",
    "- 28 * 28 (входной слой) * 128 (скрытый слой) + 128 (биасы) = 100_480 - первый слой\n",
    "- 128 * 26 (выходной слой) + 26 (биасы) 3_354\n",
    "\n",
    "Итого: 100_480 + 3_354 = 103_834"
   ],
   "metadata": {
    "id": "4HYCJl-P33i5"
   }
  },
  {
   "cell_type": "markdown",
   "source": "Обновите параметры модели. Для обновления параметров не забудьте использовать контекст torch.no_grad(). Скорость обучения (lr) для начала можно взять равным 1e-3.",
   "metadata": {
    "id": "APbrMAeW0EbD"
   }
  },
  {
   "cell_type": "code",
   "source": [
    "# w -= w.grad * lr"
   ],
   "metadata": {
    "id": "236_TPQF0Kbt",
    "ExecuteTime": {
     "end_time": "2025-01-01T21:57:46.829304Z",
     "start_time": "2025-01-01T21:57:46.827154Z"
    }
   },
   "outputs": [],
   "execution_count": 8
  },
  {
   "cell_type": "markdown",
   "source": [
    "**Что произойдет если не использовать этот контекст?** (макс. 5 баллов)\n",
    "\n",
    "Ваш ответ:"
   ],
   "metadata": {
    "id": "9-3ze7T10O12"
   }
  },
  {
   "cell_type": "markdown",
   "source": [
    "## Цикл обучения\n",
    "\n",
    "Напишите цикл, который за заданное количество эпох оптимизирует параметры вашей модели.\n",
    "\n",
    "1. Делается прямой проход и получаются значения работы вашей модели.\n",
    "1. Рассчитывается значение потерь.\n",
    "1. Расчитываются градиенты.\n",
    "1. Обновляются параметры с учетом скорости обучения.\n",
    "\n",
    "Каждые 100 пройденных батчей выводите значение потерь `loss.item()`.\n",
    "\n",
    "Также в рамках каждой эпохи оценивайте потери и точность работы вашей модели.\n",
    "\n",
    "Для подсчета количества правильных предсказаний можно использовать следующий код внутри цикла:\n",
    "\n",
    "```python\n",
    "correct += (pred.argmax(1) == y).type(torch.float).sum().item()\n",
    "```\n",
    "\n",
    "...и снаружи цикла:\n",
    "\n",
    "```python\n",
    "correct /= len(dataloader.dataset)\n",
    "```"
   ],
   "metadata": {
    "id": "nsDwKtmmjO2k"
   }
  },
  {
   "cell_type": "code",
   "source": [
    "from mlops.modeling.predict import get_model_accuracy\n",
    "from mlops.modeling.train import Model\n",
    "\n",
    "\n",
    "input_size = 28 * 28\n",
    "hidden_size = 128\n",
    "output_size = 27\n",
    "\n",
    "learning_rate = 0.001  # 1e-3\n",
    "epochs = 10\n",
    "\n",
    "model = Model(input_size, hidden_size, output_size, learning_rate)\n",
    "\n",
    "for epoch in range(epochs):\n",
    "    correct = 0\n",
    "    for batch_idx, (x, y) in enumerate(train_dataloader):\n",
    "        \n",
    "        y_pred = model.predict(x)\n",
    "        loss = model.back_propagate(y_pred, y)\n",
    "        \n",
    "        # # Прямой проход\n",
    "        # y_pred = forward(x)\n",
    "        # loss = nll_loss(y_pred, y)\n",
    "        # \n",
    "        # # Обратное распространение\n",
    "        # loss.backward()\n",
    "        # \n",
    "        # # Обновление параметров\n",
    "        # with torch.no_grad():\n",
    "        #     w1 -= learning_rate * w1.grad\n",
    "        #     b1 -= learning_rate * b1.grad\n",
    "        #     w2 -= learning_rate * w2.grad\n",
    "        #     b2 -= learning_rate * b2.grad\n",
    "        # \n",
    "        #     # Сброс градиентов\n",
    "        #     w1.grad.zero_()\n",
    "        #     b1.grad.zero_()\n",
    "        #     w2.grad.zero_()\n",
    "        #     b2.grad.zero_()\n",
    "\n",
    "        correct += (y_pred.argmax(1) == y).type(torch.float).sum().item()\n",
    "\n",
    "        if batch_idx % 1000 == 0:\n",
    "            print(f\"e: {epoch + 1}/{epochs}, b: {batch_idx}/{len(train_dataloader)}, l: {round(loss.item(), 3)}\")\n",
    "            \n",
    "    accuracy = correct / len(train_dataloader.dataset)\n",
    "    print('accuracy:', accuracy)\n",
    "    print('accuracy on test:', get_model_accuracy(model, test_dataloader))\n"
   ],
   "metadata": {
    "id": "H2363yRRpykr",
    "ExecuteTime": {
     "end_time": "2025-01-01T21:58:42.581232Z",
     "start_time": "2025-01-01T21:57:46.829993Z"
    }
   },
   "outputs": [
    {
     "name": "stdout",
     "output_type": "stream",
     "text": [
      "e: 1/10, b: 0/7800, l: 4.545\n",
      "e: 1/10, b: 1000/7800, l: 3.066\n",
      "e: 1/10, b: 2000/7800, l: 2.745\n",
      "e: 1/10, b: 3000/7800, l: 2.645\n",
      "e: 1/10, b: 4000/7800, l: 2.245\n",
      "e: 1/10, b: 5000/7800, l: 2.044\n",
      "e: 1/10, b: 6000/7800, l: 1.481\n",
      "e: 1/10, b: 7000/7800, l: 1.673\n",
      "accuracy: 0.41661858974358973\n",
      "0.5710096153846154\n",
      "e: 2/10, b: 0/7800, l: 1.696\n",
      "e: 2/10, b: 1000/7800, l: 1.501\n",
      "e: 2/10, b: 2000/7800, l: 1.412\n",
      "e: 2/10, b: 3000/7800, l: 1.364\n",
      "e: 2/10, b: 4000/7800, l: 0.729\n",
      "e: 2/10, b: 5000/7800, l: 1.166\n",
      "e: 2/10, b: 6000/7800, l: 1.398\n",
      "e: 2/10, b: 7000/7800, l: 1.457\n",
      "accuracy: 0.6036939102564103\n",
      "0.6262019230769231\n",
      "e: 3/10, b: 0/7800, l: 0.877\n",
      "e: 3/10, b: 1000/7800, l: 1.241\n",
      "e: 3/10, b: 2000/7800, l: 1.204\n",
      "e: 3/10, b: 3000/7800, l: 1.174\n",
      "e: 3/10, b: 4000/7800, l: 1.127\n",
      "e: 3/10, b: 5000/7800, l: 0.85\n",
      "e: 3/10, b: 6000/7800, l: 1.896\n",
      "e: 3/10, b: 7000/7800, l: 1.659\n",
      "accuracy: 0.6436298076923077\n",
      "0.6557211538461538\n",
      "e: 4/10, b: 0/7800, l: 1.346\n",
      "e: 4/10, b: 1000/7800, l: 1.78\n",
      "e: 4/10, b: 2000/7800, l: 1.66\n",
      "e: 4/10, b: 3000/7800, l: 1.321\n",
      "e: 4/10, b: 4000/7800, l: 1.059\n",
      "e: 4/10, b: 5000/7800, l: 1.362\n",
      "e: 4/10, b: 6000/7800, l: 0.991\n",
      "e: 4/10, b: 7000/7800, l: 1.299\n",
      "accuracy: 0.666923076923077\n",
      "0.6732211538461539\n",
      "e: 5/10, b: 0/7800, l: 1.047\n",
      "e: 5/10, b: 1000/7800, l: 0.907\n",
      "e: 5/10, b: 2000/7800, l: 1.339\n",
      "e: 5/10, b: 3000/7800, l: 1.169\n",
      "e: 5/10, b: 4000/7800, l: 0.666\n",
      "e: 5/10, b: 5000/7800, l: 0.887\n",
      "e: 5/10, b: 6000/7800, l: 1.248\n",
      "e: 5/10, b: 7000/7800, l: 0.83\n",
      "accuracy: 0.6830048076923076\n",
      "0.6852884615384616\n",
      "e: 6/10, b: 0/7800, l: 1.048\n",
      "e: 6/10, b: 1000/7800, l: 1.498\n",
      "e: 6/10, b: 2000/7800, l: 0.888\n",
      "e: 6/10, b: 3000/7800, l: 0.954\n",
      "e: 6/10, b: 4000/7800, l: 1.052\n",
      "e: 6/10, b: 5000/7800, l: 0.915\n",
      "e: 6/10, b: 6000/7800, l: 0.952\n",
      "e: 6/10, b: 7000/7800, l: 1.048\n",
      "accuracy: 0.6954967948717948\n",
      "0.6971634615384615\n",
      "e: 7/10, b: 0/7800, l: 0.925\n",
      "e: 7/10, b: 1000/7800, l: 0.749\n",
      "e: 7/10, b: 2000/7800, l: 0.903\n",
      "e: 7/10, b: 3000/7800, l: 1.399\n",
      "e: 7/10, b: 4000/7800, l: 1.501\n",
      "e: 7/10, b: 5000/7800, l: 0.976\n",
      "e: 7/10, b: 6000/7800, l: 0.73\n",
      "e: 7/10, b: 7000/7800, l: 0.487\n",
      "accuracy: 0.7062580128205128\n",
      "0.7094711538461539\n",
      "e: 8/10, b: 0/7800, l: 0.669\n",
      "e: 8/10, b: 1000/7800, l: 0.586\n",
      "e: 8/10, b: 2000/7800, l: 1.297\n",
      "e: 8/10, b: 3000/7800, l: 1.226\n",
      "e: 8/10, b: 4000/7800, l: 0.536\n",
      "e: 8/10, b: 5000/7800, l: 1.51\n",
      "e: 8/10, b: 6000/7800, l: 0.576\n",
      "e: 8/10, b: 7000/7800, l: 1.182\n",
      "accuracy: 0.7155128205128205\n",
      "0.718798076923077\n",
      "e: 9/10, b: 0/7800, l: 1.153\n",
      "e: 9/10, b: 1000/7800, l: 0.75\n",
      "e: 9/10, b: 2000/7800, l: 0.869\n",
      "e: 9/10, b: 3000/7800, l: 0.825\n",
      "e: 9/10, b: 4000/7800, l: 0.426\n",
      "e: 9/10, b: 5000/7800, l: 1.172\n",
      "e: 9/10, b: 6000/7800, l: 0.771\n",
      "e: 9/10, b: 7000/7800, l: 1.156\n",
      "accuracy: 0.7246955128205128\n",
      "0.7270192307692308\n",
      "e: 10/10, b: 0/7800, l: 1.006\n",
      "e: 10/10, b: 1000/7800, l: 0.744\n",
      "e: 10/10, b: 2000/7800, l: 0.755\n",
      "e: 10/10, b: 3000/7800, l: 1.017\n",
      "e: 10/10, b: 4000/7800, l: 0.98\n",
      "e: 10/10, b: 5000/7800, l: 0.804\n",
      "e: 10/10, b: 6000/7800, l: 1.243\n",
      "e: 10/10, b: 7000/7800, l: 0.66\n",
      "accuracy: 0.732988782051282\n",
      "0.7350480769230769\n"
     ]
    }
   ],
   "execution_count": 9
  },
  {
   "cell_type": "markdown",
   "source": [
    "**Какова точность работы вашей модели?** (макс. 30 баллов)\n",
    "\n",
    "Ваш ответ: \n",
    "\n",
    "\n",
    "Кол-во эпох: 10,\n",
    "Скорость обучения: 0.001,\n",
    "Точность: 0.73"
   ],
   "metadata": {
    "id": "Go0MUsTD3u2x"
   }
  },
  {
   "cell_type": "markdown",
   "source": [
    "## Подбор гиперпараметров\n",
    "\n",
    "Теперь когда у вас есть рабочый код для модели и ее обучения, попробуйте разные варианты скорости обучения, количества параметров в скрытых слоя модели, количества эпох, размера батчей."
   ],
   "metadata": {
    "id": "7Up0yYme3lIi"
   }
  },
  {
   "cell_type": "code",
   "source": [
    "from torch.nn.functional import *\n",
    "\n",
    "def test(epochs, learning_rate):\n",
    "    # Инициализация параметров\n",
    "    w1 = xavier_normal(hidden_size, input_size)\n",
    "    b1 = torch.randn(hidden_size, requires_grad=True)\n",
    "    \n",
    "    w2 = xavier_normal(output_size, hidden_size)\n",
    "    b2 = torch.randn(output_size, requires_grad=True)\n",
    "    \n",
    "    # Функция прямого прохода\n",
    "    def forward(x):\n",
    "        x = x.flatten(start_dim=1)\n",
    "        z1 = linear(x, w1, b1)\n",
    "        a1 = relu(z1)\n",
    "        z2 = linear(a1, w2, b2)\n",
    "        log_probs = log_softmax(z2, dim=1)\n",
    "        return log_probs\n",
    "\n",
    "    correct = 0\n",
    "    for epoch in range(epochs):\n",
    "        correct = 0\n",
    "        for batch_idx, (x, y) in enumerate(train_dataloader):\n",
    "            # Прямой проход\n",
    "            y_pred = forward(x)\n",
    "            loss = nll_loss(y_pred, y)\n",
    "    \n",
    "            # Обратное распространение\n",
    "            loss.backward()\n",
    "    \n",
    "            # Обновление параметров\n",
    "            with torch.no_grad():\n",
    "                w1 -= learning_rate * w1.grad\n",
    "                b1 -= learning_rate * b1.grad\n",
    "                w2 -= learning_rate * w2.grad\n",
    "                b2 -= learning_rate * b2.grad\n",
    "    \n",
    "                # Сброс градиентов\n",
    "                w1.grad.zero_()\n",
    "                b1.grad.zero_()\n",
    "                w2.grad.zero_()\n",
    "                b2.grad.zero_()\n",
    "    \n",
    "            correct += (y_pred.argmax(1) == y).type(torch.float).sum().item()\n",
    "        print(f\"{epoch + 1} / {epochs}\")\n",
    "    return correct / len(train_dataloader.dataset)"
   ],
   "metadata": {
    "id": "62ZM8krd4sq3",
    "ExecuteTime": {
     "end_time": "2025-01-01T21:58:42.589800Z",
     "start_time": "2025-01-01T21:58:42.583101Z"
    }
   },
   "outputs": [],
   "execution_count": 10
  },
  {
   "cell_type": "markdown",
   "source": [
    "**Сколько комбинаций гиперпараметров вы попробовали? Напишите их и точности, которые были при них получены.** (макс. 40 баллов)\n",
    "\n",
    "Ваш ответ: 8 комбинаций.\n",
    "\n",
    "| **№** | **epoch** | **learning_rate** | **accuracy** |\n",
    "|:-----:|:---------:|:-----------------:|:------------:|\n",
    "|   1   |     5     |        0.02       |     0.877    |\n",
    "|   2   |     10    |        0.01       |     0.882    |\n",
    "|   3   |     5     |        0.05       |     0.893    |\n",
    "|   4   |     5     |        0.08       |     0.892    |\n",
    "|   5   |     5     |        0.1        |     0.888    |\n",
    "|   6   |     10    |        0.1        |     0.905    |\n",
    "|   7   |     15    |        0.5        |     0.820    |\n",
    "|   8   |     30    |       0.001       |     0.824    |\n",
    "\n",
    "\n",
    "Наиболее высокая точность у эксперимента №6 - 90% (10 эпох, learning_rate 0.1)\n",
    "Самый худший результат показал эксперимент №7 - 82% (15 эпох, learning_rate 0.5)\n",
    "Также плохой результат показал эксперимент №8 - 82% (30 эпох, learning_rate 0.5)\n",
    "\n",
    "Можно сделать вывод, что многократное повторение одной и той же обучающей выборки не приводит к повышению точности модели.\n",
    "Текущая серия экспериментов показала, что оптимальным является небольшое количество эпох с умеренным шагом обучения.\n",
    "\n"
   ],
   "metadata": {
    "id": "0vSoXjNt4xB8"
   }
  },
  {
   "metadata": {
    "ExecuteTime": {
     "end_time": "2025-01-01T21:59:06.341899Z",
     "start_time": "2025-01-01T21:58:42.590888Z"
    }
   },
   "cell_type": "code",
   "source": "test(5, 0.02)",
   "outputs": [
    {
     "name": "stdout",
     "output_type": "stream",
     "text": [
      "1 / 5\n",
      "2 / 5\n",
      "3 / 5\n",
      "4 / 5\n"
     ]
    },
    {
     "ename": "KeyboardInterrupt",
     "evalue": "",
     "output_type": "error",
     "traceback": [
      "\u001B[0;31m---------------------------------------------------------------------------\u001B[0m",
      "\u001B[0;31mKeyboardInterrupt\u001B[0m                         Traceback (most recent call last)",
      "Cell \u001B[0;32mIn[11], line 1\u001B[0m\n\u001B[0;32m----> 1\u001B[0m \u001B[43mtest\u001B[49m\u001B[43m(\u001B[49m\u001B[38;5;241;43m5\u001B[39;49m\u001B[43m,\u001B[49m\u001B[43m \u001B[49m\u001B[38;5;241;43m0.02\u001B[39;49m\u001B[43m)\u001B[49m\n",
      "Cell \u001B[0;32mIn[10], line 23\u001B[0m, in \u001B[0;36mtest\u001B[0;34m(epochs, learning_rate)\u001B[0m\n\u001B[1;32m     21\u001B[0m \u001B[38;5;28;01mfor\u001B[39;00m epoch \u001B[38;5;129;01min\u001B[39;00m \u001B[38;5;28mrange\u001B[39m(epochs):\n\u001B[1;32m     22\u001B[0m     correct \u001B[38;5;241m=\u001B[39m \u001B[38;5;241m0\u001B[39m\n\u001B[0;32m---> 23\u001B[0m     \u001B[38;5;28;01mfor\u001B[39;00m batch_idx, (x, y) \u001B[38;5;129;01min\u001B[39;00m \u001B[38;5;28menumerate\u001B[39m(train_dataloader):\n\u001B[1;32m     24\u001B[0m         \u001B[38;5;66;03m# Прямой проход\u001B[39;00m\n\u001B[1;32m     25\u001B[0m         y_pred \u001B[38;5;241m=\u001B[39m forward(x)\n\u001B[1;32m     26\u001B[0m         loss \u001B[38;5;241m=\u001B[39m nll_loss(y_pred, y)\n",
      "File \u001B[0;32m~/mlops/.venv/lib/python3.9/site-packages/torch/utils/data/dataloader.py:701\u001B[0m, in \u001B[0;36m_BaseDataLoaderIter.__next__\u001B[0;34m(self)\u001B[0m\n\u001B[1;32m    698\u001B[0m \u001B[38;5;28;01mif\u001B[39;00m \u001B[38;5;28mself\u001B[39m\u001B[38;5;241m.\u001B[39m_sampler_iter \u001B[38;5;129;01mis\u001B[39;00m \u001B[38;5;28;01mNone\u001B[39;00m:\n\u001B[1;32m    699\u001B[0m     \u001B[38;5;66;03m# TODO(https://github.com/pytorch/pytorch/issues/76750)\u001B[39;00m\n\u001B[1;32m    700\u001B[0m     \u001B[38;5;28mself\u001B[39m\u001B[38;5;241m.\u001B[39m_reset()  \u001B[38;5;66;03m# type: ignore[call-arg]\u001B[39;00m\n\u001B[0;32m--> 701\u001B[0m data \u001B[38;5;241m=\u001B[39m \u001B[38;5;28;43mself\u001B[39;49m\u001B[38;5;241;43m.\u001B[39;49m\u001B[43m_next_data\u001B[49m\u001B[43m(\u001B[49m\u001B[43m)\u001B[49m\n\u001B[1;32m    702\u001B[0m \u001B[38;5;28mself\u001B[39m\u001B[38;5;241m.\u001B[39m_num_yielded \u001B[38;5;241m+\u001B[39m\u001B[38;5;241m=\u001B[39m \u001B[38;5;241m1\u001B[39m\n\u001B[1;32m    703\u001B[0m \u001B[38;5;28;01mif\u001B[39;00m (\n\u001B[1;32m    704\u001B[0m     \u001B[38;5;28mself\u001B[39m\u001B[38;5;241m.\u001B[39m_dataset_kind \u001B[38;5;241m==\u001B[39m _DatasetKind\u001B[38;5;241m.\u001B[39mIterable\n\u001B[1;32m    705\u001B[0m     \u001B[38;5;129;01mand\u001B[39;00m \u001B[38;5;28mself\u001B[39m\u001B[38;5;241m.\u001B[39m_IterableDataset_len_called \u001B[38;5;129;01mis\u001B[39;00m \u001B[38;5;129;01mnot\u001B[39;00m \u001B[38;5;28;01mNone\u001B[39;00m\n\u001B[1;32m    706\u001B[0m     \u001B[38;5;129;01mand\u001B[39;00m \u001B[38;5;28mself\u001B[39m\u001B[38;5;241m.\u001B[39m_num_yielded \u001B[38;5;241m>\u001B[39m \u001B[38;5;28mself\u001B[39m\u001B[38;5;241m.\u001B[39m_IterableDataset_len_called\n\u001B[1;32m    707\u001B[0m ):\n",
      "File \u001B[0;32m~/mlops/.venv/lib/python3.9/site-packages/torch/utils/data/dataloader.py:757\u001B[0m, in \u001B[0;36m_SingleProcessDataLoaderIter._next_data\u001B[0;34m(self)\u001B[0m\n\u001B[1;32m    755\u001B[0m \u001B[38;5;28;01mdef\u001B[39;00m \u001B[38;5;21m_next_data\u001B[39m(\u001B[38;5;28mself\u001B[39m):\n\u001B[1;32m    756\u001B[0m     index \u001B[38;5;241m=\u001B[39m \u001B[38;5;28mself\u001B[39m\u001B[38;5;241m.\u001B[39m_next_index()  \u001B[38;5;66;03m# may raise StopIteration\u001B[39;00m\n\u001B[0;32m--> 757\u001B[0m     data \u001B[38;5;241m=\u001B[39m \u001B[38;5;28;43mself\u001B[39;49m\u001B[38;5;241;43m.\u001B[39;49m\u001B[43m_dataset_fetcher\u001B[49m\u001B[38;5;241;43m.\u001B[39;49m\u001B[43mfetch\u001B[49m\u001B[43m(\u001B[49m\u001B[43mindex\u001B[49m\u001B[43m)\u001B[49m  \u001B[38;5;66;03m# may raise StopIteration\u001B[39;00m\n\u001B[1;32m    758\u001B[0m     \u001B[38;5;28;01mif\u001B[39;00m \u001B[38;5;28mself\u001B[39m\u001B[38;5;241m.\u001B[39m_pin_memory:\n\u001B[1;32m    759\u001B[0m         data \u001B[38;5;241m=\u001B[39m _utils\u001B[38;5;241m.\u001B[39mpin_memory\u001B[38;5;241m.\u001B[39mpin_memory(data, \u001B[38;5;28mself\u001B[39m\u001B[38;5;241m.\u001B[39m_pin_memory_device)\n",
      "File \u001B[0;32m~/mlops/.venv/lib/python3.9/site-packages/torch/utils/data/_utils/fetch.py:52\u001B[0m, in \u001B[0;36m_MapDatasetFetcher.fetch\u001B[0;34m(self, possibly_batched_index)\u001B[0m\n\u001B[1;32m     50\u001B[0m         data \u001B[38;5;241m=\u001B[39m \u001B[38;5;28mself\u001B[39m\u001B[38;5;241m.\u001B[39mdataset\u001B[38;5;241m.\u001B[39m__getitems__(possibly_batched_index)\n\u001B[1;32m     51\u001B[0m     \u001B[38;5;28;01melse\u001B[39;00m:\n\u001B[0;32m---> 52\u001B[0m         data \u001B[38;5;241m=\u001B[39m [\u001B[38;5;28mself\u001B[39m\u001B[38;5;241m.\u001B[39mdataset[idx] \u001B[38;5;28;01mfor\u001B[39;00m idx \u001B[38;5;129;01min\u001B[39;00m possibly_batched_index]\n\u001B[1;32m     53\u001B[0m \u001B[38;5;28;01melse\u001B[39;00m:\n\u001B[1;32m     54\u001B[0m     data \u001B[38;5;241m=\u001B[39m \u001B[38;5;28mself\u001B[39m\u001B[38;5;241m.\u001B[39mdataset[possibly_batched_index]\n",
      "File \u001B[0;32m~/mlops/.venv/lib/python3.9/site-packages/torch/utils/data/_utils/fetch.py:52\u001B[0m, in \u001B[0;36m<listcomp>\u001B[0;34m(.0)\u001B[0m\n\u001B[1;32m     50\u001B[0m         data \u001B[38;5;241m=\u001B[39m \u001B[38;5;28mself\u001B[39m\u001B[38;5;241m.\u001B[39mdataset\u001B[38;5;241m.\u001B[39m__getitems__(possibly_batched_index)\n\u001B[1;32m     51\u001B[0m     \u001B[38;5;28;01melse\u001B[39;00m:\n\u001B[0;32m---> 52\u001B[0m         data \u001B[38;5;241m=\u001B[39m [\u001B[38;5;28;43mself\u001B[39;49m\u001B[38;5;241;43m.\u001B[39;49m\u001B[43mdataset\u001B[49m\u001B[43m[\u001B[49m\u001B[43midx\u001B[49m\u001B[43m]\u001B[49m \u001B[38;5;28;01mfor\u001B[39;00m idx \u001B[38;5;129;01min\u001B[39;00m possibly_batched_index]\n\u001B[1;32m     53\u001B[0m \u001B[38;5;28;01melse\u001B[39;00m:\n\u001B[1;32m     54\u001B[0m     data \u001B[38;5;241m=\u001B[39m \u001B[38;5;28mself\u001B[39m\u001B[38;5;241m.\u001B[39mdataset[possibly_batched_index]\n",
      "File \u001B[0;32m~/mlops/.venv/lib/python3.9/site-packages/torchvision/datasets/mnist.py:146\u001B[0m, in \u001B[0;36mMNIST.__getitem__\u001B[0;34m(self, index)\u001B[0m\n\u001B[1;32m    143\u001B[0m img \u001B[38;5;241m=\u001B[39m Image\u001B[38;5;241m.\u001B[39mfromarray(img\u001B[38;5;241m.\u001B[39mnumpy(), mode\u001B[38;5;241m=\u001B[39m\u001B[38;5;124m\"\u001B[39m\u001B[38;5;124mL\u001B[39m\u001B[38;5;124m\"\u001B[39m)\n\u001B[1;32m    145\u001B[0m \u001B[38;5;28;01mif\u001B[39;00m \u001B[38;5;28mself\u001B[39m\u001B[38;5;241m.\u001B[39mtransform \u001B[38;5;129;01mis\u001B[39;00m \u001B[38;5;129;01mnot\u001B[39;00m \u001B[38;5;28;01mNone\u001B[39;00m:\n\u001B[0;32m--> 146\u001B[0m     img \u001B[38;5;241m=\u001B[39m \u001B[38;5;28;43mself\u001B[39;49m\u001B[38;5;241;43m.\u001B[39;49m\u001B[43mtransform\u001B[49m\u001B[43m(\u001B[49m\u001B[43mimg\u001B[49m\u001B[43m)\u001B[49m\n\u001B[1;32m    148\u001B[0m \u001B[38;5;28;01mif\u001B[39;00m \u001B[38;5;28mself\u001B[39m\u001B[38;5;241m.\u001B[39mtarget_transform \u001B[38;5;129;01mis\u001B[39;00m \u001B[38;5;129;01mnot\u001B[39;00m \u001B[38;5;28;01mNone\u001B[39;00m:\n\u001B[1;32m    149\u001B[0m     target \u001B[38;5;241m=\u001B[39m \u001B[38;5;28mself\u001B[39m\u001B[38;5;241m.\u001B[39mtarget_transform(target)\n",
      "File \u001B[0;32m~/mlops/.venv/lib/python3.9/site-packages/torchvision/transforms/transforms.py:137\u001B[0m, in \u001B[0;36mToTensor.__call__\u001B[0;34m(self, pic)\u001B[0m\n\u001B[1;32m    129\u001B[0m \u001B[38;5;28;01mdef\u001B[39;00m \u001B[38;5;21m__call__\u001B[39m(\u001B[38;5;28mself\u001B[39m, pic):\n\u001B[1;32m    130\u001B[0m \u001B[38;5;250m    \u001B[39m\u001B[38;5;124;03m\"\"\"\u001B[39;00m\n\u001B[1;32m    131\u001B[0m \u001B[38;5;124;03m    Args:\u001B[39;00m\n\u001B[1;32m    132\u001B[0m \u001B[38;5;124;03m        pic (PIL Image or numpy.ndarray): Image to be converted to tensor.\u001B[39;00m\n\u001B[0;32m   (...)\u001B[0m\n\u001B[1;32m    135\u001B[0m \u001B[38;5;124;03m        Tensor: Converted image.\u001B[39;00m\n\u001B[1;32m    136\u001B[0m \u001B[38;5;124;03m    \"\"\"\u001B[39;00m\n\u001B[0;32m--> 137\u001B[0m     \u001B[38;5;28;01mreturn\u001B[39;00m \u001B[43mF\u001B[49m\u001B[38;5;241;43m.\u001B[39;49m\u001B[43mto_tensor\u001B[49m\u001B[43m(\u001B[49m\u001B[43mpic\u001B[49m\u001B[43m)\u001B[49m\n",
      "File \u001B[0;32m~/mlops/.venv/lib/python3.9/site-packages/torchvision/transforms/functional.py:168\u001B[0m, in \u001B[0;36mto_tensor\u001B[0;34m(pic)\u001B[0m\n\u001B[1;32m    166\u001B[0m \u001B[38;5;66;03m# handle PIL Image\u001B[39;00m\n\u001B[1;32m    167\u001B[0m mode_to_nptype \u001B[38;5;241m=\u001B[39m {\u001B[38;5;124m\"\u001B[39m\u001B[38;5;124mI\u001B[39m\u001B[38;5;124m\"\u001B[39m: np\u001B[38;5;241m.\u001B[39mint32, \u001B[38;5;124m\"\u001B[39m\u001B[38;5;124mI;16\u001B[39m\u001B[38;5;124m\"\u001B[39m \u001B[38;5;28;01mif\u001B[39;00m sys\u001B[38;5;241m.\u001B[39mbyteorder \u001B[38;5;241m==\u001B[39m \u001B[38;5;124m\"\u001B[39m\u001B[38;5;124mlittle\u001B[39m\u001B[38;5;124m\"\u001B[39m \u001B[38;5;28;01melse\u001B[39;00m \u001B[38;5;124m\"\u001B[39m\u001B[38;5;124mI;16B\u001B[39m\u001B[38;5;124m\"\u001B[39m: np\u001B[38;5;241m.\u001B[39mint16, \u001B[38;5;124m\"\u001B[39m\u001B[38;5;124mF\u001B[39m\u001B[38;5;124m\"\u001B[39m: np\u001B[38;5;241m.\u001B[39mfloat32}\n\u001B[0;32m--> 168\u001B[0m img \u001B[38;5;241m=\u001B[39m \u001B[43mtorch\u001B[49m\u001B[38;5;241;43m.\u001B[39;49m\u001B[43mfrom_numpy\u001B[49m\u001B[43m(\u001B[49m\u001B[43mnp\u001B[49m\u001B[38;5;241;43m.\u001B[39;49m\u001B[43marray\u001B[49m\u001B[43m(\u001B[49m\u001B[43mpic\u001B[49m\u001B[43m,\u001B[49m\u001B[43m \u001B[49m\u001B[43mmode_to_nptype\u001B[49m\u001B[38;5;241;43m.\u001B[39;49m\u001B[43mget\u001B[49m\u001B[43m(\u001B[49m\u001B[43mpic\u001B[49m\u001B[38;5;241;43m.\u001B[39;49m\u001B[43mmode\u001B[49m\u001B[43m,\u001B[49m\u001B[43m \u001B[49m\u001B[43mnp\u001B[49m\u001B[38;5;241;43m.\u001B[39;49m\u001B[43muint8\u001B[49m\u001B[43m)\u001B[49m\u001B[43m,\u001B[49m\u001B[43m \u001B[49m\u001B[43mcopy\u001B[49m\u001B[38;5;241;43m=\u001B[39;49m\u001B[38;5;28;43;01mTrue\u001B[39;49;00m\u001B[43m)\u001B[49m\u001B[43m)\u001B[49m\n\u001B[1;32m    170\u001B[0m \u001B[38;5;28;01mif\u001B[39;00m pic\u001B[38;5;241m.\u001B[39mmode \u001B[38;5;241m==\u001B[39m \u001B[38;5;124m\"\u001B[39m\u001B[38;5;124m1\u001B[39m\u001B[38;5;124m\"\u001B[39m:\n\u001B[1;32m    171\u001B[0m     img \u001B[38;5;241m=\u001B[39m \u001B[38;5;241m255\u001B[39m \u001B[38;5;241m*\u001B[39m img\n",
      "\u001B[0;31mKeyboardInterrupt\u001B[0m: "
     ]
    }
   ],
   "execution_count": 11
  },
  {
   "metadata": {
    "ExecuteTime": {
     "end_time": "2025-01-01T21:59:06.343212Z",
     "start_time": "2025-01-01T21:59:06.343146Z"
    }
   },
   "cell_type": "code",
   "source": "test(10, 0.01)",
   "outputs": [],
   "execution_count": null
  },
  {
   "cell_type": "code",
   "source": "test(5, 0.05)",
   "metadata": {
    "id": "GXlEiDOACTTF"
   },
   "outputs": [],
   "execution_count": null
  },
  {
   "metadata": {
    "ExecuteTime": {
     "end_time": "2025-01-01T21:59:06.344931Z",
     "start_time": "2025-01-01T21:59:06.344874Z"
    }
   },
   "cell_type": "code",
   "source": "test(5, 0.08)",
   "outputs": [],
   "execution_count": null
  },
  {
   "metadata": {
    "ExecuteTime": {
     "end_time": "2025-01-01T21:59:06.346334Z",
     "start_time": "2025-01-01T21:59:06.346266Z"
    }
   },
   "cell_type": "code",
   "source": "test(5, 0.1)",
   "outputs": [],
   "execution_count": null
  },
  {
   "metadata": {},
   "cell_type": "code",
   "source": "test(10, 0.1)",
   "outputs": [],
   "execution_count": null
  },
  {
   "metadata": {},
   "cell_type": "code",
   "source": "test(15, 0.5)",
   "outputs": [],
   "execution_count": null
  },
  {
   "metadata": {},
   "cell_type": "code",
   "source": "test(30, 0.001)",
   "outputs": [],
   "execution_count": null
  },
  {
   "metadata": {},
   "cell_type": "code",
   "source": "",
   "outputs": [],
   "execution_count": null
  }
 ]
}
