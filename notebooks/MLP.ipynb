{
 "nbformat": 4,
 "nbformat_minor": 0,
 "metadata": {
  "colab": {
   "provenance": []
  },
  "kernelspec": {
   "name": "python3",
   "display_name": "Python 3 (ipykernel)",
   "language": "python"
  },
  "language_info": {
   "name": "python"
  }
 },
 "cells": [
  {
   "cell_type": "markdown",
   "source": [
    "# MLP в pytorch\n",
    "\n",
    "## Работа №2\n",
    "\n",
    "\n",
    "---\n",
    "\n",
    "ФИО: Наугольный Егор Сергеевич\n",
    "\n",
    "---\n",
    "\n",
    "Далее в ноутбуке будут пропущенны части кода с комментариями о том что необходимо написать. А также текстовые ячейки с вопросами, на которые вам необходимо дать ответы."
   ],
   "metadata": {
    "id": "R7ajN74XGqZY"
   }
  },
  {
   "cell_type": "code",
   "source": [
    "import torch\n",
    "from torchvision import datasets\n",
    "from torchvision.transforms import ToTensor\n",
    "import matplotlib.pyplot as plt\n",
    "import numpy as np\n",
    "\n",
    "# Настройки для графиков\n",
    "%matplotlib inline\n",
    "plt.rcParams['image.interpolation'] = 'nearest'\n",
    "plt.rcParams['image.cmap'] = 'gray'"
   ],
   "metadata": {
    "id": "7GNIoiJGKx2w",
    "ExecuteTime": {
     "end_time": "2024-12-12T23:27:14.556146Z",
     "start_time": "2024-12-12T23:27:14.529836Z"
    }
   },
   "outputs": [],
   "execution_count": 224
  },
  {
   "cell_type": "markdown",
   "source": [
    "**Совет по работе**\n",
    "\n",
    "Создавайте отдельные ячейки для ваших экспериментов. Пробуйте создавать небольшие тензоры и экспериментировать с ними, чтобы понять как работает та или иная функция и какие размерности данных вам требуются.\n",
    "\n",
    "Когда дойдете до цикла обучения сначала пробуйте работать с одной эпохой и ограниченным набором пакетов данных, чтобы меньше времени ожидать до обнаружения ошибки."
   ],
   "metadata": {
    "id": "gYTqVFF9LGGW"
   }
  },
  {
   "cell_type": "markdown",
   "source": [
    "## Загрузка данных\n",
    "\n",
    "Из встроенных датасетов torchvision загрузите тестовую и обучающую выборки из EMNIST часть (split) Balanced или Letters, указав приобразование для изображений используя ToTensor()."
   ],
   "metadata": {
    "id": "UXVjctUHSBKP"
   }
  },
  {
   "cell_type": "code",
   "metadata": {
    "id": "HJFO-KicGor8",
    "ExecuteTime": {
     "end_time": "2024-12-12T23:27:14.741605Z",
     "start_time": "2024-12-12T23:27:14.607126Z"
    }
   },
   "source": [
    "# Загрузка обучающей и тестовой выборки\n",
    "import os\n",
    "\n",
    "dir = os.path.join(os.getcwd(), 'data')\n",
    "os.makedirs(dir, exist_ok=True)\n",
    "\n",
    "train = os.path.join(dir, 'train')\n",
    "test = os.path.join(dir, 'test')\n",
    "\n",
    "train_set = datasets.EMNIST(\n",
    "    root=train,\n",
    "    train=True,\n",
    "    download=True,\n",
    "    split='letters',\n",
    "    transform=ToTensor()\n",
    ")\n",
    "\n",
    "test_set = datasets.EMNIST(\n",
    "    root=test,\n",
    "    train=False,\n",
    "    download=True,\n",
    "    split='letters',\n",
    "    transform=ToTensor()\n",
    ")"
   ],
   "outputs": [],
   "execution_count": 225
  },
  {
   "metadata": {},
   "cell_type": "markdown",
   "source": ""
  },
  {
   "cell_type": "markdown",
   "source": [
    "Выведите информацию о количестве данных в обеих выборках, размерностях изображений, количестве классов и сами метки классов.\n",
    "\n",
    "Функция `dir()` в python возвращает список допустимых атрибутов объекта, что может вам подсказать как получить часть информации о датасете."
   ],
   "metadata": {
    "id": "IJ6cYQa7NNdz"
   }
  },
  {
   "cell_type": "code",
   "source": [
    "train_samples_len = train_set.data.shape[0]\n",
    "test_samples_len = test_set.data.shape[0]\n",
    "image_shape = tuple(train_set.data[0].shape)\n",
    "classes_len = len(train_set.classes)\n",
    "classes_labels = train_set.classes\n",
    "\n",
    "print(train_samples_len, test_samples_len, image_shape, classes_len, classes_labels)"
   ],
   "metadata": {
    "id": "Dk1iISsaNnRH",
    "ExecuteTime": {
     "end_time": "2024-12-12T23:27:14.751130Z",
     "start_time": "2024-12-12T23:27:14.745385Z"
    }
   },
   "outputs": [
    {
     "name": "stdout",
     "output_type": "stream",
     "text": [
      "124800 20800 (28, 28) 27 ['N/A', 'a', 'b', 'c', 'd', 'e', 'f', 'g', 'h', 'i', 'j', 'k', 'l', 'm', 'n', 'o', 'p', 'q', 'r', 's', 't', 'u', 'v', 'w', 'x', 'y', 'z']\n"
     ]
    }
   ],
   "execution_count": 226
  },
  {
   "cell_type": "markdown",
   "source": [
    "## Визуализация 9 случайных образцов"
   ],
   "metadata": {
    "id": "atoBJNwMR56K"
   }
  },
  {
   "cell_type": "code",
   "source": [
    "labels_map = dict(zip(range(len(train_set.classes)), train_set.classes))\n",
    "figure = plt.figure(figsize=(8, 8))\n",
    "cols, rows = 3, 3\n",
    "for i in range(1, cols * rows + 1):\n",
    "    sample_idx = torch.randint(len(train_set), size=(1,)).item()\n",
    "    img, label = train_set[sample_idx]\n",
    "    figure.add_subplot(rows, cols, i)\n",
    "    plt.title(labels_map[label])\n",
    "    plt.axis(\"off\")\n",
    "    plt.imshow(img.squeeze(), cmap=\"gray\")\n",
    "plt.show()"
   ],
   "metadata": {
    "id": "rNrmUjxpOfAg",
    "ExecuteTime": {
     "end_time": "2024-12-12T23:27:15.318733Z",
     "start_time": "2024-12-12T23:27:14.753896Z"
    }
   },
   "outputs": [
    {
     "data": {
      "text/plain": [
       "<Figure size 800x800 with 9 Axes>"
      ],
      "image/png": "[encoded data removed]"
     },
     "metadata": {},
     "output_type": "display_data"
    }
   ],
   "execution_count": 227
  },
  {
   "cell_type": "markdown",
   "source": [
    "**По представленным образцам, что вы можете сказать о них? Есть ли в них что-то необычное и это усложнит или упростит обучение модели?** (макс. 5 баллов)\n",
    "\n",
    "Ваш ответ:\n",
    "- буквы имеют разный рукописный \"шрифт\"\n",
    "- буквы имеют различную ориентацию (наклон/поворот)\n",
    "- буквы имеют разную резкость контура. Где-то контур более четкий (m) где-то более размытый (z)"
   ],
   "metadata": {
    "id": "1KV1aTiiSL6g"
   }
  },
  {
   "cell_type": "markdown",
   "source": [
    "## Создание загрузчиков данных (DataLoader)\n",
    "\n",
    "Данные при обучении модели редко передаются по одному образцу или все разом, обычно образцы объединяются в пакеты (batches) и уже они передаются на вход модели.\n",
    "\n",
    "Размер пакета (batch size) часто выбирается как $2^n$ (16, 32, 64, 128) и часто это зависит от доступной памяти.\n",
    "\n",
    "Загрузчики данных будут использоваться при обучении и тестировании модели и когда все пакеты были перебраны в датасете, это считается одной эпохой обучения. Чтобы между эпохами модель на обучалась на одинаковых пакетах их перемешивают (shuffle). При тестировании это не имеете разницы.\n",
    "\n",
    "Поэтому выберите один из размеров пакета при создании загрузчиков и для обучающего загрузчика используйте перемешивание, а тестового нет."
   ],
   "metadata": {
    "id": "Af2RGhdtS5Sn"
   }
  },
  {
   "cell_type": "code",
   "source": [
    "from torch.utils.data import DataLoader\n",
    "\n",
    "batch_size = 2 ** 4 # Ваш код\n",
    "# batch_size = 2 ** 7 # Ваш код\n",
    "\n",
    "train_dataloader = DataLoader(train_set, batch_size, shuffle=True)\n",
    "test_dataloader = DataLoader(test_set, batch_size, shuffle=False)"
   ],
   "metadata": {
    "id": "X2bf-p21S9KB",
    "ExecuteTime": {
     "end_time": "2024-12-13T00:35:12.695454Z",
     "start_time": "2024-12-13T00:35:12.690620Z"
    }
   },
   "outputs": [],
   "execution_count": 249
  },
  {
   "cell_type": "markdown",
   "source": [
    "**Опишите размерности данных одного пакета.** (макс. 10 баллов)\n",
    "\n",
    "Ваш ответ: (16, 1, 28, 28) (batch_size, channels, height, width"
   ],
   "metadata": {
    "id": "W6MhOraTVjmO"
   }
  },
  {
   "cell_type": "markdown",
   "source": [
    "## Многослойный перцептрон\n",
    "\n",
    "В этой работе мы еще не будем использовать все возможности pytorch по построению нейронной сети например `nn.Sequential` или `nn.Module`, это будет рассмотрено в следующем задании.\n",
    "\n",
    "Ваша задача в этой работе используя функции из модуля `torch.nn.functional` `linear` и `relu`собрать цепочку вычислений для получения выходных значений. Во входном слое не забудьте использовать для изображений `.flatten()`. Чтобы вы могли использовать батчи, вам надо подумать какую часть тензора требуется сделать \"плоской\".\n",
    "\n",
    "Вывод с последнего слоя преобразуйте с помощью Softmax.\n",
    "\n",
    "Перед тем как использовать функцию потерь от значений из Softmax возьмите логарифм (`log()`) В качестве функции потерь используйте negative log likelihood loss `nll`. Почитайте какие данные ей требуются на вход, Вам придется самостоятельно подготовить тензор с помощью `F.one_hot()`.\n",
    "\n",
    "Параметры для функций, которые будут оптимизироваться, вы создаете самостоятельно с помощью `xavier_normal`, а отклонения (bias)\n",
    "с помощью `torch.randn()` с нужными размерностями.\n",
    "\n",
    "Не забывайте, что для использования `backward()`, у оптимизируемых параметров должен быть поднят флаг requires_grad."
   ],
   "metadata": {
    "id": "rVSEAJ10WtyU"
   }
  },
  {
   "cell_type": "code",
   "source": [
    "def xavier_normal(F_in, F_out):\n",
    "    limit = np.sqrt(6 / float(F_in + F_out))\n",
    "    W = np.random.uniform(low=-limit, high=limit, size=(F_in, F_out))\n",
    "    return torch.from_numpy(W).type(torch.float32).requires_grad_()"
   ],
   "metadata": {
    "id": "mNe-EEh1zoNL",
    "ExecuteTime": {
     "end_time": "2024-12-12T23:27:15.342313Z",
     "start_time": "2024-12-12T23:27:15.337009Z"
    }
   },
   "outputs": [],
   "execution_count": 229
  },
  {
   "cell_type": "code",
   "source": [
    "from torch.nn.functional import *\n",
    "input_size = 28 * 28 \n",
    "hidden_size = 128\n",
    "output_size = classes_len\n",
    "\n",
    "\n",
    "# Инициализация параметров\n",
    "w1 = xavier_normal(hidden_size, input_size)\n",
    "b1 = torch.randn(hidden_size, requires_grad=True)\n",
    "\n",
    "w2 = xavier_normal(output_size, hidden_size)\n",
    "b2 = torch.randn(output_size, requires_grad=True)\n",
    "\n",
    "# Функция прямого прохода\n",
    "def forward(x):\n",
    "    x = x.flatten(start_dim=1)  # преобразование тензора в плоский\n",
    "    z1 = linear(x, w1, b1)   # линейное преобразование\n",
    "    a1 = relu(z1)            # ф. актив. ReLU\n",
    "    z2 = linear(a1, w2, b2)\n",
    "    return log_softmax(z2, dim=1)"
   ],
   "metadata": {
    "id": "5kDfPxwSiS1H",
    "ExecuteTime": {
     "end_time": "2024-12-12T23:27:15.351675Z",
     "start_time": "2024-12-12T23:27:15.344714Z"
    }
   },
   "outputs": [],
   "execution_count": 230
  },
  {
   "cell_type": "markdown",
   "source": [
    "**Опишите идею инициализации Ксавье. Почему могут быть проблемы с использованием torch.randn()?** (макс. 5 баллов)\n",
    "\n",
    "Ваш ответ:\n",
    "\n",
    "**Сколько параметров в вашей модели?** (макс. 5 баллов)\n",
    "\n",
    "Ваш ответ: \n",
    "- 28 * 28 (входной слой) * 128 (скрытый слой) + 128 (биасы) = 100_480 - первый слой\n",
    "- 128 * 26 (выходной слой) + 26 (биасы) 3_354\n",
    "\n",
    "Итого: 100_480 + 3_354 = 103_834"
   ],
   "metadata": {
    "id": "4HYCJl-P33i5"
   }
  },
  {
   "cell_type": "markdown",
   "source": "Обновите параметры модели. Для обновления параметров не забудьте использовать контекст torch.no_grad(). Скорость обучения (lr) для начала можно взять равным 1e-3.",
   "metadata": {
    "id": "APbrMAeW0EbD"
   }
  },
  {
   "cell_type": "code",
   "source": [
    "# w -= w.grad * lr"
   ],
   "metadata": {
    "id": "236_TPQF0Kbt",
    "ExecuteTime": {
     "end_time": "2024-12-12T23:27:15.357520Z",
     "start_time": "2024-12-12T23:27:15.353406Z"
    }
   },
   "outputs": [],
   "execution_count": 231
  },
  {
   "cell_type": "markdown",
   "source": [
    "**Что произойдет если не использовать этот контекст?** (макс. 5 баллов)\n",
    "\n",
    "Ваш ответ:"
   ],
   "metadata": {
    "id": "9-3ze7T10O12"
   }
  },
  {
   "cell_type": "markdown",
   "source": [
    "## Цикл обучения\n",
    "\n",
    "Напишите цикл, который за заданное количество эпох оптимизирует параметры вашей модели.\n",
    "\n",
    "1. Делается прямой проход и получаются значения работы вашей модели.\n",
    "1. Рассчитывается значение потерь.\n",
    "1. Расчитываются градиенты.\n",
    "1. Обновляются параметры с учетом скорости обучения.\n",
    "\n",
    "Каждые 100 пройденных батчей выводите значение потерь `loss.item()`.\n",
    "\n",
    "Также в рамках каждой эпохи оценивайте потери и точность работы вашей модели.\n",
    "\n",
    "Для подсчета количества правильных предсказаний можно использовать следующий код внутри цикла:\n",
    "\n",
    "```python\n",
    "correct += (pred.argmax(1) == y).type(torch.float).sum().item()\n",
    "```\n",
    "\n",
    "...и снаружи цикла:\n",
    "\n",
    "```python\n",
    "correct /= len(dataloader.dataset)\n",
    "```"
   ],
   "metadata": {
    "id": "nsDwKtmmjO2k"
   }
  },
  {
   "cell_type": "code",
   "source": [
    "epochs = 10\n",
    "learning_rate = 0.001  # 1e-3\n",
    "\n",
    "for epoch in range(epochs):\n",
    "    correct = 0\n",
    "    for batch_idx, (x, y) in enumerate(train_dataloader):\n",
    "        # Прямой проход\n",
    "        y_pred = forward(x)\n",
    "        loss = nll_loss(y_pred, y)\n",
    "\n",
    "        # Обратное распространение\n",
    "        loss.backward()\n",
    "\n",
    "        # Обновление параметров\n",
    "        with torch.no_grad():\n",
    "            w1 -= learning_rate * w1.grad\n",
    "            b1 -= learning_rate * b1.grad\n",
    "            w2 -= learning_rate * w2.grad\n",
    "            b2 -= learning_rate * b2.grad\n",
    "\n",
    "            # Сброс градиентов\n",
    "            w1.grad.zero_()\n",
    "            b1.grad.zero_()\n",
    "            w2.grad.zero_()\n",
    "            b2.grad.zero_()\n",
    "\n",
    "        correct += (y_pred.argmax(1) == y).type(torch.float).sum().item()\n",
    "\n",
    "        if batch_idx % 1000 == 0:\n",
    "            print(f\"e: {epoch + 1}/{epochs}, b: {batch_idx}/{len(train_dataloader)}, l: {round(loss.item(), 3)}\")\n",
    "            \n",
    "    accuracy = correct / len(train_dataloader.dataset)\n",
    "    print('accuracy:', accuracy)\n"
   ],
   "metadata": {
    "id": "H2363yRRpykr",
    "ExecuteTime": {
     "end_time": "2024-12-13T00:36:31.130084Z",
     "start_time": "2024-12-13T00:35:19.956688Z"
    }
   },
   "outputs": [
    {
     "name": "stdout",
     "output_type": "stream",
     "text": [
      "e: 1/10, b: 0/7800, l: 0.426\n",
      "e: 1/10, b: 1000/7800, l: 0.663\n",
      "e: 1/10, b: 2000/7800, l: 1.149\n",
      "e: 1/10, b: 3000/7800, l: 0.738\n",
      "e: 1/10, b: 4000/7800, l: 1.378\n",
      "e: 1/10, b: 5000/7800, l: 0.818\n",
      "e: 1/10, b: 6000/7800, l: 0.561\n",
      "e: 1/10, b: 7000/7800, l: 0.758\n",
      "accuracy: 0.8043669871794872\n",
      "e: 2/10, b: 0/7800, l: 0.682\n",
      "e: 2/10, b: 1000/7800, l: 0.291\n",
      "e: 2/10, b: 2000/7800, l: 1.551\n",
      "e: 2/10, b: 3000/7800, l: 0.799\n",
      "e: 2/10, b: 4000/7800, l: 0.574\n",
      "e: 2/10, b: 5000/7800, l: 0.425\n",
      "e: 2/10, b: 6000/7800, l: 0.479\n",
      "e: 2/10, b: 7000/7800, l: 0.586\n",
      "accuracy: 0.807275641025641\n",
      "e: 3/10, b: 0/7800, l: 0.489\n",
      "e: 3/10, b: 1000/7800, l: 0.553\n",
      "e: 3/10, b: 2000/7800, l: 0.817\n",
      "e: 3/10, b: 3000/7800, l: 0.352\n",
      "e: 3/10, b: 4000/7800, l: 0.819\n",
      "e: 3/10, b: 5000/7800, l: 0.565\n",
      "e: 3/10, b: 6000/7800, l: 0.783\n",
      "e: 3/10, b: 7000/7800, l: 0.635\n",
      "accuracy: 0.8103766025641026\n",
      "e: 4/10, b: 0/7800, l: 0.803\n",
      "e: 4/10, b: 1000/7800, l: 0.701\n",
      "e: 4/10, b: 2000/7800, l: 0.362\n",
      "e: 4/10, b: 3000/7800, l: 0.229\n",
      "e: 4/10, b: 4000/7800, l: 0.923\n",
      "e: 4/10, b: 5000/7800, l: 0.495\n",
      "e: 4/10, b: 6000/7800, l: 1.164\n",
      "e: 4/10, b: 7000/7800, l: 0.59\n",
      "accuracy: 0.8135817307692308\n",
      "e: 5/10, b: 0/7800, l: 0.302\n",
      "e: 5/10, b: 1000/7800, l: 0.363\n",
      "e: 5/10, b: 2000/7800, l: 0.614\n",
      "e: 5/10, b: 3000/7800, l: 0.279\n",
      "e: 5/10, b: 4000/7800, l: 1.227\n",
      "e: 5/10, b: 5000/7800, l: 1.186\n",
      "e: 5/10, b: 6000/7800, l: 0.658\n",
      "e: 5/10, b: 7000/7800, l: 1.315\n",
      "accuracy: 0.8160496794871794\n",
      "e: 6/10, b: 0/7800, l: 1.598\n",
      "e: 6/10, b: 1000/7800, l: 0.4\n",
      "e: 6/10, b: 2000/7800, l: 0.517\n",
      "e: 6/10, b: 3000/7800, l: 0.699\n",
      "e: 6/10, b: 4000/7800, l: 0.455\n",
      "e: 6/10, b: 5000/7800, l: 0.355\n",
      "e: 6/10, b: 6000/7800, l: 0.919\n",
      "e: 6/10, b: 7000/7800, l: 0.147\n",
      "accuracy: 0.8195192307692307\n",
      "e: 7/10, b: 0/7800, l: 1.231\n",
      "e: 7/10, b: 1000/7800, l: 1.324\n",
      "e: 7/10, b: 2000/7800, l: 1.386\n",
      "e: 7/10, b: 3000/7800, l: 0.281\n",
      "e: 7/10, b: 4000/7800, l: 0.824\n",
      "e: 7/10, b: 5000/7800, l: 0.495\n",
      "e: 7/10, b: 6000/7800, l: 0.365\n",
      "e: 7/10, b: 7000/7800, l: 1.22\n",
      "accuracy: 0.8218189102564103\n",
      "e: 8/10, b: 0/7800, l: 0.708\n",
      "e: 8/10, b: 1000/7800, l: 0.461\n",
      "e: 8/10, b: 2000/7800, l: 0.988\n",
      "e: 8/10, b: 3000/7800, l: 0.807\n",
      "e: 8/10, b: 4000/7800, l: 0.662\n",
      "e: 8/10, b: 5000/7800, l: 0.719\n",
      "e: 8/10, b: 6000/7800, l: 0.228\n",
      "e: 8/10, b: 7000/7800, l: 0.425\n",
      "accuracy: 0.8246955128205128\n",
      "e: 9/10, b: 0/7800, l: 0.33\n",
      "e: 9/10, b: 1000/7800, l: 0.661\n",
      "e: 9/10, b: 2000/7800, l: 0.955\n",
      "e: 9/10, b: 3000/7800, l: 0.355\n",
      "e: 9/10, b: 4000/7800, l: 0.422\n",
      "e: 9/10, b: 5000/7800, l: 0.485\n",
      "e: 9/10, b: 6000/7800, l: 0.253\n",
      "e: 9/10, b: 7000/7800, l: 0.289\n",
      "accuracy: 0.8268910256410257\n",
      "e: 10/10, b: 0/7800, l: 0.426\n",
      "e: 10/10, b: 1000/7800, l: 0.406\n",
      "e: 10/10, b: 2000/7800, l: 0.391\n",
      "e: 10/10, b: 3000/7800, l: 0.384\n",
      "e: 10/10, b: 4000/7800, l: 0.387\n",
      "e: 10/10, b: 5000/7800, l: 0.63\n",
      "e: 10/10, b: 6000/7800, l: 0.425\n",
      "e: 10/10, b: 7000/7800, l: 0.332\n",
      "accuracy: 0.8288942307692307\n"
     ]
    }
   ],
   "execution_count": 250
  },
  {
   "cell_type": "markdown",
   "source": [
    "**Какова точность работы вашей модели?** (макс. 30 баллов)\n",
    "\n",
    "Ваш ответ: \n",
    "\n",
    "\n",
    "Кол-во эпох: 10,\n",
    "Скорость обучения: 0.001,\n",
    "Точность: 0.73"
   ],
   "metadata": {
    "id": "Go0MUsTD3u2x"
   }
  },
  {
   "cell_type": "markdown",
   "source": [
    "## Подбор гиперпараметров\n",
    "\n",
    "Теперь когда у вас есть рабочый код для модели и ее обучения, попробуйте разные варианты скорости обучения, количества параметров в скрытых слоя модели, количества эпох, размера батчей."
   ],
   "metadata": {
    "id": "7Up0yYme3lIi"
   }
  },
  {
   "cell_type": "code",
   "source": [
    "from torch.nn.functional import *\n",
    "\n",
    "def test(epochs, learning_rate):\n",
    "    # Инициализация параметров\n",
    "    w1 = xavier_normal(hidden_size, input_size)\n",
    "    b1 = torch.randn(hidden_size, requires_grad=True)\n",
    "    \n",
    "    w2 = xavier_normal(output_size, hidden_size)\n",
    "    b2 = torch.randn(output_size, requires_grad=True)\n",
    "    \n",
    "    # Функция прямого прохода\n",
    "    def forward(x):\n",
    "        x = x.flatten(start_dim=1)\n",
    "        z1 = linear(x, w1, b1)\n",
    "        a1 = relu(z1)\n",
    "        z2 = linear(a1, w2, b2)\n",
    "        log_probs = log_softmax(z2, dim=1)\n",
    "        return log_probs\n",
    "\n",
    "    correct = 0\n",
    "    for epoch in range(epochs):\n",
    "        correct = 0\n",
    "        for batch_idx, (x, y) in enumerate(train_dataloader):\n",
    "            # Прямой проход\n",
    "            y_pred = forward(x)\n",
    "            loss = nll_loss(y_pred, y)\n",
    "    \n",
    "            # Обратное распространение\n",
    "            loss.backward()\n",
    "    \n",
    "            # Обновление параметров\n",
    "            with torch.no_grad():\n",
    "                w1 -= learning_rate * w1.grad\n",
    "                b1 -= learning_rate * b1.grad\n",
    "                w2 -= learning_rate * w2.grad\n",
    "                b2 -= learning_rate * b2.grad\n",
    "    \n",
    "                # Сброс градиентов\n",
    "                w1.grad.zero_()\n",
    "                b1.grad.zero_()\n",
    "                w2.grad.zero_()\n",
    "                b2.grad.zero_()\n",
    "    \n",
    "            correct += (y_pred.argmax(1) == y).type(torch.float).sum().item()\n",
    "        print(f\"{epoch + 1} / {epochs}\")\n",
    "    return correct / len(train_dataloader.dataset)"
   ],
   "metadata": {
    "id": "62ZM8krd4sq3",
    "ExecuteTime": {
     "end_time": "2024-12-12T23:46:32.988311Z",
     "start_time": "2024-12-12T23:46:32.981025Z"
    }
   },
   "outputs": [],
   "execution_count": 238
  },
  {
   "cell_type": "markdown",
   "source": [
    "**Сколько комбинаций гиперпараметров вы попробовали? Напишите их и точности, которые были при них получены.** (макс. 40 баллов)\n",
    "\n",
    "Ваш ответ: 8 комбинаций.\n",
    "\n",
    "| **№** | **epoch** | **learning_rate** | **accuracy** |\n",
    "|:-----:|:---------:|:-----------------:|:------------:|\n",
    "|   1   |     5     |        0.02       |     0.877    |\n",
    "|   2   |     10    |        0.01       |     0.882    |\n",
    "|   3   |     5     |        0.05       |     0.893    |\n",
    "|   4   |     5     |        0.08       |     0.892    |\n",
    "|   5   |     5     |        0.1        |     0.888    |\n",
    "|   6   |     10    |        0.1        |     0.905    |\n",
    "|   7   |     15    |        0.5        |     0.820    |\n",
    "|   8   |     30    |       0.001       |     0.824    |\n",
    "\n",
    "\n",
    "Наиболее высокая точность у эксперимента №6 - 90% (10 эпох, learning_rate 0.1)\n",
    "Самый худший результат показал эксперимент №7 - 82% (15 эпох, learning_rate 0.5)\n",
    "Также плохой результат показал эксперимент №8 - 82% (30 эпох, learning_rate 0.5)\n",
    "\n",
    "Можно сделать вывод, что многократное повторение одной и той же обучающей выборки не приводит к повышению точности модели.\n",
    "Текущая серия экспериментов показала, что оптимальным является небольшое количество эпох с умеренным шагом обучения.\n",
    "\n"
   ],
   "metadata": {
    "id": "0vSoXjNt4xB8"
   }
  },
  {
   "metadata": {
    "ExecuteTime": {
     "end_time": "2024-12-12T23:47:42.368437Z",
     "start_time": "2024-12-12T23:46:39.376837Z"
    }
   },
   "cell_type": "code",
   "source": "test(5, 0.02)",
   "outputs": [
    {
     "name": "stdout",
     "output_type": "stream",
     "text": [
      "1 / 5\n",
      "2 / 5\n",
      "3 / 5\n",
      "4 / 5\n",
      "5 / 5\n"
     ]
    },
    {
     "data": {
      "text/plain": [
       "0.8770913461538462"
      ]
     },
     "execution_count": 239,
     "metadata": {},
     "output_type": "execute_result"
    }
   ],
   "execution_count": 239
  },
  {
   "metadata": {
    "ExecuteTime": {
     "end_time": "2024-12-12T23:50:46.309672Z",
     "start_time": "2024-12-12T23:47:48.193614Z"
    }
   },
   "cell_type": "code",
   "source": "test(10, 0.01)",
   "outputs": [
    {
     "name": "stdout",
     "output_type": "stream",
     "text": [
      "1 / 10\n",
      "2 / 10\n",
      "3 / 10\n",
      "4 / 10\n",
      "5 / 10\n",
      "6 / 10\n",
      "7 / 10\n",
      "8 / 10\n",
      "9 / 10\n",
      "10 / 10\n"
     ]
    },
    {
     "data": {
      "text/plain": [
       "0.8821875"
      ]
     },
     "execution_count": 240,
     "metadata": {},
     "output_type": "execute_result"
    }
   ],
   "execution_count": 240
  },
  {
   "cell_type": "code",
   "source": "test(5, 0.05)",
   "metadata": {
    "id": "GXlEiDOACTTF",
    "ExecuteTime": {
     "end_time": "2024-12-12T23:52:25.398602Z",
     "start_time": "2024-12-12T23:51:37.538991Z"
    }
   },
   "outputs": [
    {
     "name": "stdout",
     "output_type": "stream",
     "text": [
      "1 / 5\n",
      "2 / 5\n",
      "3 / 5\n",
      "4 / 5\n",
      "5 / 5\n"
     ]
    },
    {
     "data": {
      "text/plain": [
       "0.8930849358974359"
      ]
     },
     "execution_count": 241,
     "metadata": {},
     "output_type": "execute_result"
    }
   ],
   "execution_count": 241
  },
  {
   "metadata": {
    "ExecuteTime": {
     "end_time": "2024-12-12T23:53:44.998468Z",
     "start_time": "2024-12-12T23:52:52.178672Z"
    }
   },
   "cell_type": "code",
   "source": "test(5, 0.08)",
   "outputs": [
    {
     "name": "stdout",
     "output_type": "stream",
     "text": [
      "1 / 5\n",
      "2 / 5\n",
      "3 / 5\n",
      "4 / 5\n",
      "5 / 5\n"
     ]
    },
    {
     "data": {
      "text/plain": [
       "0.8916185897435898"
      ]
     },
     "execution_count": 242,
     "metadata": {},
     "output_type": "execute_result"
    }
   ],
   "execution_count": 242
  },
  {
   "metadata": {
    "ExecuteTime": {
     "end_time": "2024-12-12T23:57:45.031932Z",
     "start_time": "2024-12-12T23:56:35.609101Z"
    }
   },
   "cell_type": "code",
   "source": "test(5, 0.1)",
   "outputs": [
    {
     "name": "stdout",
     "output_type": "stream",
     "text": [
      "1 / 5\n",
      "2 / 5\n",
      "3 / 5\n",
      "4 / 5\n",
      "5 / 5\n"
     ]
    },
    {
     "data": {
      "text/plain": [
       "0.8883333333333333"
      ]
     },
     "execution_count": 245,
     "metadata": {},
     "output_type": "execute_result"
    }
   ],
   "execution_count": 245
  },
  {
   "metadata": {
    "ExecuteTime": {
     "end_time": "2024-12-12T23:56:24.583989Z",
     "start_time": "2024-12-12T23:54:45.732567Z"
    }
   },
   "cell_type": "code",
   "source": "test(10, 0.1)",
   "outputs": [
    {
     "name": "stdout",
     "output_type": "stream",
     "text": [
      "1 / 10\n",
      "2 / 10\n",
      "3 / 10\n",
      "4 / 10\n",
      "5 / 10\n",
      "6 / 10\n",
      "7 / 10\n",
      "8 / 10\n",
      "9 / 10\n",
      "10 / 10\n"
     ]
    },
    {
     "data": {
      "text/plain": [
       "0.9045753205128205"
      ]
     },
     "execution_count": 244,
     "metadata": {},
     "output_type": "execute_result"
    }
   ],
   "execution_count": 244
  },
  {
   "metadata": {
    "ExecuteTime": {
     "end_time": "2024-12-13T00:03:20.962099Z",
     "start_time": "2024-12-13T00:00:32.248471Z"
    }
   },
   "cell_type": "code",
   "source": "test(15, 0.5)",
   "outputs": [
    {
     "name": "stdout",
     "output_type": "stream",
     "text": [
      "1 / 15\n",
      "2 / 15\n",
      "3 / 15\n",
      "4 / 15\n",
      "5 / 15\n",
      "6 / 15\n",
      "7 / 15\n",
      "8 / 15\n",
      "9 / 15\n",
      "10 / 15\n",
      "11 / 15\n",
      "12 / 15\n",
      "13 / 15\n",
      "14 / 15\n",
      "15 / 15\n"
     ]
    },
    {
     "data": {
      "text/plain": [
       "0.8203846153846154"
      ]
     },
     "execution_count": 246,
     "metadata": {},
     "output_type": "execute_result"
    }
   ],
   "execution_count": 246
  },
  {
   "metadata": {
    "ExecuteTime": {
     "end_time": "2024-12-13T00:09:26.247536Z",
     "start_time": "2024-12-13T00:05:19.496429Z"
    }
   },
   "cell_type": "code",
   "source": "    test(30, 0.001)",
   "outputs": [
    {
     "name": "stdout",
     "output_type": "stream",
     "text": [
      "1 / 30\n",
      "2 / 30\n",
      "3 / 30\n",
      "4 / 30\n",
      "5 / 30\n",
      "6 / 30\n",
      "7 / 30\n",
      "8 / 30\n",
      "9 / 30\n",
      "10 / 30\n",
      "11 / 30\n",
      "12 / 30\n",
      "13 / 30\n",
      "14 / 30\n",
      "15 / 30\n",
      "16 / 30\n",
      "17 / 30\n",
      "18 / 30\n",
      "19 / 30\n",
      "20 / 30\n",
      "21 / 30\n",
      "22 / 30\n",
      "23 / 30\n",
      "24 / 30\n",
      "25 / 30\n",
      "26 / 30\n",
      "27 / 30\n",
      "28 / 30\n",
      "29 / 30\n",
      "30 / 30\n"
     ]
    },
    {
     "data": {
      "text/plain": [
       "0.8243429487179487"
      ]
     },
     "execution_count": 247,
     "metadata": {},
     "output_type": "execute_result"
    }
   ],
   "execution_count": 247
  },
  {
   "metadata": {},
   "cell_type": "code",
   "outputs": [],
   "execution_count": null,
   "source": ""
  }
 ]
}
