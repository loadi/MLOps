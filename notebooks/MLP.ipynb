{
 "nbformat": 4,
 "nbformat_minor": 0,
 "metadata": {
  "colab": {
   "provenance": []
  },
  "kernelspec": {
   "name": "python3",
   "display_name": "Python 3 (ipykernel)",
   "language": "python"
  },
  "language_info": {
   "name": "python"
  }
 },
 "cells": [
  {
   "cell_type": "markdown",
   "source": [
    "# MLP в pytorch\n",
    "\n",
    "## Работа №2\n",
    "\n",
    "\n",
    "---\n",
    "\n",
    "ФИО: Наугольный Егор Сергеевич\n",
    "\n",
    "---\n",
    "\n",
    "Далее в ноутбуке будут пропущенны части кода с комментариями о том что необходимо написать. А также текстовые ячейки с вопросами, на которые вам необходимо дать ответы."
   ],
   "metadata": {
    "id": "R7ajN74XGqZY"
   }
  },
  {
   "cell_type": "code",
   "source": [
    "import torch\n",
    "from torchvision import datasets\n",
    "from torchvision.transforms import ToTensor\n",
    "import matplotlib.pyplot as plt\n",
    "import numpy as np\n",
    "\n",
    "# Настройки для графиков\n",
    "%matplotlib inline\n",
    "plt.rcParams['image.interpolation'] = 'nearest'\n",
    "plt.rcParams['image.cmap'] = 'gray'"
   ],
   "metadata": {
    "id": "7GNIoiJGKx2w",
    "ExecuteTime": {
     "end_time": "2025-01-01T20:57:28.725975Z",
     "start_time": "2025-01-01T20:57:24.889490Z"
    }
   },
   "outputs": [],
   "execution_count": 1
  },
  {
   "cell_type": "markdown",
   "source": [
    "**Совет по работе**\n",
    "\n",
    "Создавайте отдельные ячейки для ваших экспериментов. Пробуйте создавать небольшие тензоры и экспериментировать с ними, чтобы понять как работает та или иная функция и какие размерности данных вам требуются.\n",
    "\n",
    "Когда дойдете до цикла обучения сначала пробуйте работать с одной эпохой и ограниченным набором пакетов данных, чтобы меньше времени ожидать до обнаружения ошибки."
   ],
   "metadata": {
    "id": "gYTqVFF9LGGW"
   }
  },
  {
   "cell_type": "markdown",
   "source": [
    "## Загрузка данных\n",
    "\n",
    "Из встроенных датасетов torchvision загрузите тестовую и обучающую выборки из EMNIST часть (split) Balanced или Letters, указав приобразование для изображений используя ToTensor()."
   ],
   "metadata": {
    "id": "UXVjctUHSBKP"
   }
  },
  {
   "cell_type": "code",
   "metadata": {
    "id": "HJFO-KicGor8",
    "ExecuteTime": {
     "end_time": "2025-01-01T20:57:28.835996Z",
     "start_time": "2025-01-01T20:57:28.727453Z"
    }
   },
   "source": [
    "from mlops import dataset\n",
    "\n",
    "train_set, test_set = dataset.get_dataset()"
   ],
   "outputs": [],
   "execution_count": 2
  },
  {
   "metadata": {},
   "cell_type": "markdown",
   "source": ""
  },
  {
   "cell_type": "markdown",
   "source": [
    "Выведите информацию о количестве данных в обеих выборках, размерностях изображений, количестве классов и сами метки классов.\n",
    "\n",
    "Функция `dir()` в python возвращает список допустимых атрибутов объекта, что может вам подсказать как получить часть информации о датасете."
   ],
   "metadata": {
    "id": "IJ6cYQa7NNdz"
   }
  },
  {
   "cell_type": "code",
   "source": [
    "train_samples_len = train_set.data.shape[0]\n",
    "test_samples_len = test_set.data.shape[0]\n",
    "image_shape = tuple(train_set.data[0].shape)\n",
    "classes_len = len(train_set.classes)\n",
    "classes_labels = train_set.classes\n",
    "\n",
    "print(train_samples_len, test_samples_len, image_shape, classes_len, classes_labels)"
   ],
   "metadata": {
    "id": "Dk1iISsaNnRH",
    "ExecuteTime": {
     "end_time": "2025-01-01T20:57:28.841731Z",
     "start_time": "2025-01-01T20:57:28.837387Z"
    }
   },
   "outputs": [
    {
     "name": "stdout",
     "output_type": "stream",
     "text": [
      "124800 20800 (28, 28) 27 ['N/A', 'a', 'b', 'c', 'd', 'e', 'f', 'g', 'h', 'i', 'j', 'k', 'l', 'm', 'n', 'o', 'p', 'q', 'r', 's', 't', 'u', 'v', 'w', 'x', 'y', 'z']\n"
     ]
    }
   ],
   "execution_count": 3
  },
  {
   "cell_type": "markdown",
   "source": [
    "## Визуализация 9 случайных образцов"
   ],
   "metadata": {
    "id": "atoBJNwMR56K"
   }
  },
  {
   "cell_type": "code",
   "source": [
    "labels_map = dict(zip(range(len(train_set.classes)), train_set.classes))\n",
    "figure = plt.figure(figsize=(8, 8))\n",
    "cols, rows = 3, 3\n",
    "for i in range(1, cols * rows + 1):\n",
    "    sample_idx = torch.randint(len(train_set), size=(1,)).item()\n",
    "    img, label = train_set[sample_idx]\n",
    "    figure.add_subplot(rows, cols, i)\n",
    "    plt.title(labels_map[label])\n",
    "    plt.axis(\"off\")\n",
    "    plt.imshow(img.squeeze(), cmap=\"gray\")\n",
    "plt.show()"
   ],
   "metadata": {
    "id": "rNrmUjxpOfAg",
    "ExecuteTime": {
     "end_time": "2025-01-01T20:57:29.290302Z",
     "start_time": "2025-01-01T20:57:28.844517Z"
    }
   },
   "outputs": [
    {
     "data": {
      "text/plain": [
       "<Figure size 800x800 with 9 Axes>"
      ],
      "image/png": "[encoded data removed]"
     },
     "metadata": {},
     "output_type": "display_data"
    }
   ],
   "execution_count": 4
  },
  {
   "cell_type": "markdown",
   "source": [
    "**По представленным образцам, что вы можете сказать о них? Есть ли в них что-то необычное и это усложнит или упростит обучение модели?** (макс. 5 баллов)\n",
    "\n",
    "Ваш ответ:\n",
    "- буквы имеют разный рукописный \"шрифт\"\n",
    "- буквы имеют различную ориентацию (наклон/поворот)\n",
    "- буквы имеют разную резкость контура. Где-то контур более четкий (m) где-то более размытый (z)"
   ],
   "metadata": {
    "id": "1KV1aTiiSL6g"
   }
  },
  {
   "cell_type": "markdown",
   "source": [
    "## Создание загрузчиков данных (DataLoader)\n",
    "\n",
    "Данные при обучении модели редко передаются по одному образцу или все разом, обычно образцы объединяются в пакеты (batches) и уже они передаются на вход модели.\n",
    "\n",
    "Размер пакета (batch size) часто выбирается как $2^n$ (16, 32, 64, 128) и часто это зависит от доступной памяти.\n",
    "\n",
    "Загрузчики данных будут использоваться при обучении и тестировании модели и когда все пакеты были перебраны в датасете, это считается одной эпохой обучения. Чтобы между эпохами модель на обучалась на одинаковых пакетах их перемешивают (shuffle). При тестировании это не имеете разницы.\n",
    "\n",
    "Поэтому выберите один из размеров пакета при создании загрузчиков и для обучающего загрузчика используйте перемешивание, а тестового нет."
   ],
   "metadata": {
    "id": "Af2RGhdtS5Sn"
   }
  },
  {
   "cell_type": "code",
   "source": [
    "from mlops import features\n",
    "\n",
    "batch_size = 2 ** 4\n",
    "train_dataloader, test_dataloader = features.get_dataloaders(train_set, test_set, batch_size)"
   ],
   "metadata": {
    "id": "X2bf-p21S9KB",
    "ExecuteTime": {
     "end_time": "2025-01-01T20:57:29.297733Z",
     "start_time": "2025-01-01T20:57:29.291670Z"
    }
   },
   "outputs": [],
   "execution_count": 5
  },
  {
   "cell_type": "markdown",
   "source": [
    "**Опишите размерности данных одного пакета.** (макс. 10 баллов)\n",
    "\n",
    "Ваш ответ: (16, 1, 28, 28) (batch_size, channels, height, width"
   ],
   "metadata": {
    "id": "W6MhOraTVjmO"
   }
  },
  {
   "cell_type": "markdown",
   "source": [
    "## Многослойный перцептрон\n",
    "\n",
    "В этой работе мы еще не будем использовать все возможности pytorch по построению нейронной сети например `nn.Sequential` или `nn.Module`, это будет рассмотрено в следующем задании.\n",
    "\n",
    "Ваша задача в этой работе используя функции из модуля `torch.nn.functional` `linear` и `relu`собрать цепочку вычислений для получения выходных значений. Во входном слое не забудьте использовать для изображений `.flatten()`. Чтобы вы могли использовать батчи, вам надо подумать какую часть тензора требуется сделать \"плоской\".\n",
    "\n",
    "Вывод с последнего слоя преобразуйте с помощью Softmax.\n",
    "\n",
    "Перед тем как использовать функцию потерь от значений из Softmax возьмите логарифм (`log()`) В качестве функции потерь используйте negative log likelihood loss `nll`. Почитайте какие данные ей требуются на вход, Вам придется самостоятельно подготовить тензор с помощью `F.one_hot()`.\n",
    "\n",
    "Параметры для функций, которые будут оптимизироваться, вы создаете самостоятельно с помощью `xavier_normal`, а отклонения (bias)\n",
    "с помощью `torch.randn()` с нужными размерностями.\n",
    "\n",
    "Не забывайте, что для использования `backward()`, у оптимизируемых параметров должен быть поднят флаг requires_grad."
   ],
   "metadata": {
    "id": "rVSEAJ10WtyU"
   }
  },
  {
   "cell_type": "code",
   "source": [
    "def xavier_normal(F_in, F_out):\n",
    "    limit = np.sqrt(6 / float(F_in + F_out))\n",
    "    W = np.random.uniform(low=-limit, high=limit, size=(F_in, F_out))\n",
    "    return torch.from_numpy(W).type(torch.float32).requires_grad_()"
   ],
   "metadata": {
    "id": "mNe-EEh1zoNL",
    "ExecuteTime": {
     "end_time": "2025-01-01T20:57:29.308566Z",
     "start_time": "2025-01-01T20:57:29.299248Z"
    }
   },
   "outputs": [],
   "execution_count": 6
  },
  {
   "cell_type": "code",
   "source": [
    "from torch.nn.functional import *\n",
    "input_size = 28 * 28 \n",
    "hidden_size = 128\n",
    "output_size = classes_len\n",
    "\n",
    "\n",
    "# Инициализация параметров\n",
    "w1 = xavier_normal(hidden_size, input_size)\n",
    "b1 = torch.randn(hidden_size, requires_grad=True)\n",
    "\n",
    "w2 = xavier_normal(output_size, hidden_size)\n",
    "b2 = torch.randn(output_size, requires_grad=True)\n",
    "\n",
    "# Функция прямого прохода\n",
    "def forward(x):\n",
    "    x = x.flatten(start_dim=1)  # преобразование тензора в плоский\n",
    "    z1 = linear(x, w1, b1)   # линейное преобразование\n",
    "    a1 = relu(z1)            # ф. актив. ReLU\n",
    "    z2 = linear(a1, w2, b2)\n",
    "    return log_softmax(z2, dim=1)"
   ],
   "metadata": {
    "id": "5kDfPxwSiS1H",
    "ExecuteTime": {
     "end_time": "2025-01-01T20:57:29.330413Z",
     "start_time": "2025-01-01T20:57:29.315126Z"
    }
   },
   "outputs": [],
   "execution_count": 7
  },
  {
   "cell_type": "markdown",
   "source": [
    "**Опишите идею инициализации Ксавье. Почему могут быть проблемы с использованием torch.randn()?** (макс. 5 баллов)\n",
    "\n",
    "Ваш ответ:\n",
    "\n",
    "**Сколько параметров в вашей модели?** (макс. 5 баллов)\n",
    "\n",
    "Ваш ответ: \n",
    "- 28 * 28 (входной слой) * 128 (скрытый слой) + 128 (биасы) = 100_480 - первый слой\n",
    "- 128 * 26 (выходной слой) + 26 (биасы) 3_354\n",
    "\n",
    "Итого: 100_480 + 3_354 = 103_834"
   ],
   "metadata": {
    "id": "4HYCJl-P33i5"
   }
  },
  {
   "cell_type": "markdown",
   "source": "Обновите параметры модели. Для обновления параметров не забудьте использовать контекст torch.no_grad(). Скорость обучения (lr) для начала можно взять равным 1e-3.",
   "metadata": {
    "id": "APbrMAeW0EbD"
   }
  },
  {
   "cell_type": "code",
   "source": [
    "# w -= w.grad * lr"
   ],
   "metadata": {
    "id": "236_TPQF0Kbt",
    "ExecuteTime": {
     "end_time": "2025-01-01T20:57:29.337223Z",
     "start_time": "2025-01-01T20:57:29.332838Z"
    }
   },
   "outputs": [],
   "execution_count": 8
  },
  {
   "cell_type": "markdown",
   "source": [
    "**Что произойдет если не использовать этот контекст?** (макс. 5 баллов)\n",
    "\n",
    "Ваш ответ:"
   ],
   "metadata": {
    "id": "9-3ze7T10O12"
   }
  },
  {
   "cell_type": "markdown",
   "source": [
    "## Цикл обучения\n",
    "\n",
    "Напишите цикл, который за заданное количество эпох оптимизирует параметры вашей модели.\n",
    "\n",
    "1. Делается прямой проход и получаются значения работы вашей модели.\n",
    "1. Рассчитывается значение потерь.\n",
    "1. Расчитываются градиенты.\n",
    "1. Обновляются параметры с учетом скорости обучения.\n",
    "\n",
    "Каждые 100 пройденных батчей выводите значение потерь `loss.item()`.\n",
    "\n",
    "Также в рамках каждой эпохи оценивайте потери и точность работы вашей модели.\n",
    "\n",
    "Для подсчета количества правильных предсказаний можно использовать следующий код внутри цикла:\n",
    "\n",
    "```python\n",
    "correct += (pred.argmax(1) == y).type(torch.float).sum().item()\n",
    "```\n",
    "\n",
    "...и снаружи цикла:\n",
    "\n",
    "```python\n",
    "correct /= len(dataloader.dataset)\n",
    "```"
   ],
   "metadata": {
    "id": "nsDwKtmmjO2k"
   }
  },
  {
   "cell_type": "code",
   "source": [
    "from mlops.modeling.train import Model\n",
    "\n",
    "\n",
    "input_size = 28 * 28\n",
    "hidden_size = 128\n",
    "output_size = 27\n",
    "\n",
    "learning_rate = 0.001  # 1e-3\n",
    "epochs = 10\n",
    "\n",
    "model = Model(input_size, hidden_size, output_size, learning_rate)\n",
    "\n",
    "for epoch in range(epochs):\n",
    "    correct = 0\n",
    "    for batch_idx, (x, y) in enumerate(train_dataloader):\n",
    "        \n",
    "        y_pred = model.predict(x)\n",
    "        loss = model.back_propagate(y_pred, y)\n",
    "        \n",
    "        # # Прямой проход\n",
    "        # y_pred = forward(x)\n",
    "        # loss = nll_loss(y_pred, y)\n",
    "        # \n",
    "        # # Обратное распространение\n",
    "        # loss.backward()\n",
    "        # \n",
    "        # # Обновление параметров\n",
    "        # with torch.no_grad():\n",
    "        #     w1 -= learning_rate * w1.grad\n",
    "        #     b1 -= learning_rate * b1.grad\n",
    "        #     w2 -= learning_rate * w2.grad\n",
    "        #     b2 -= learning_rate * b2.grad\n",
    "        # \n",
    "        #     # Сброс градиентов\n",
    "        #     w1.grad.zero_()\n",
    "        #     b1.grad.zero_()\n",
    "        #     w2.grad.zero_()\n",
    "        #     b2.grad.zero_()\n",
    "\n",
    "        correct += (y_pred.argmax(1) == y).type(torch.float).sum().item()\n",
    "\n",
    "        if batch_idx % 1000 == 0:\n",
    "            print(f\"e: {epoch + 1}/{epochs}, b: {batch_idx}/{len(train_dataloader)}, l: {round(loss.item(), 3)}\")\n",
    "            \n",
    "    accuracy = correct / len(train_dataloader.dataset)\n",
    "    print('accuracy:', accuracy)\n"
   ],
   "metadata": {
    "id": "H2363yRRpykr",
    "ExecuteTime": {
     "end_time": "2025-01-01T20:59:54.527119Z",
     "start_time": "2025-01-01T20:57:29.338949Z"
    }
   },
   "outputs": [
    {
     "name": "stdout",
     "output_type": "stream",
     "text": [
      "e: 1/10, b: 0/7800, l: 4.015\n",
      "e: 1/10, b: 1000/7800, l: 2.927\n",
      "e: 1/10, b: 2000/7800, l: 2.578\n",
      "e: 1/10, b: 3000/7800, l: 2.151\n",
      "e: 1/10, b: 4000/7800, l: 2.308\n",
      "e: 1/10, b: 5000/7800, l: 1.926\n",
      "e: 1/10, b: 6000/7800, l: 2.013\n",
      "e: 1/10, b: 7000/7800, l: 1.574\n",
      "accuracy: 0.4245833333333333\n",
      "e: 2/10, b: 0/7800, l: 1.545\n",
      "e: 2/10, b: 1000/7800, l: 1.534\n",
      "e: 2/10, b: 2000/7800, l: 0.764\n",
      "e: 2/10, b: 3000/7800, l: 1.074\n",
      "e: 2/10, b: 4000/7800, l: 1.23\n",
      "e: 2/10, b: 5000/7800, l: 1.66\n",
      "e: 2/10, b: 6000/7800, l: 1.605\n",
      "e: 2/10, b: 7000/7800, l: 1.502\n",
      "accuracy: 0.5974198717948718\n",
      "e: 3/10, b: 0/7800, l: 1.077\n",
      "e: 3/10, b: 1000/7800, l: 1.604\n",
      "e: 3/10, b: 2000/7800, l: 1.85\n",
      "e: 3/10, b: 3000/7800, l: 1.471\n",
      "e: 3/10, b: 4000/7800, l: 1.483\n",
      "e: 3/10, b: 5000/7800, l: 1.004\n",
      "e: 3/10, b: 6000/7800, l: 1.231\n",
      "e: 3/10, b: 7000/7800, l: 0.91\n",
      "accuracy: 0.6424439102564102\n",
      "e: 4/10, b: 0/7800, l: 1.224\n",
      "e: 4/10, b: 1000/7800, l: 1.185\n",
      "e: 4/10, b: 2000/7800, l: 1.332\n",
      "e: 4/10, b: 3000/7800, l: 1.739\n",
      "e: 4/10, b: 4000/7800, l: 1.264\n",
      "e: 4/10, b: 5000/7800, l: 0.944\n",
      "e: 4/10, b: 6000/7800, l: 0.715\n",
      "e: 4/10, b: 7000/7800, l: 1.148\n",
      "accuracy: 0.6671714743589744\n",
      "e: 5/10, b: 0/7800, l: 1.149\n",
      "e: 5/10, b: 1000/7800, l: 1.14\n",
      "e: 5/10, b: 2000/7800, l: 1.255\n",
      "e: 5/10, b: 3000/7800, l: 1.079\n",
      "e: 5/10, b: 4000/7800, l: 0.831\n",
      "e: 5/10, b: 5000/7800, l: 1.313\n",
      "e: 5/10, b: 6000/7800, l: 1.241\n",
      "e: 5/10, b: 7000/7800, l: 0.973\n",
      "accuracy: 0.6843429487179488\n",
      "e: 6/10, b: 0/7800, l: 0.812\n",
      "e: 6/10, b: 1000/7800, l: 0.578\n",
      "e: 6/10, b: 2000/7800, l: 0.834\n",
      "e: 6/10, b: 3000/7800, l: 0.865\n",
      "e: 6/10, b: 4000/7800, l: 1.072\n",
      "e: 6/10, b: 5000/7800, l: 1.542\n",
      "e: 6/10, b: 6000/7800, l: 1.166\n",
      "e: 6/10, b: 7000/7800, l: 0.657\n",
      "accuracy: 0.696698717948718\n",
      "e: 7/10, b: 0/7800, l: 0.877\n",
      "e: 7/10, b: 1000/7800, l: 0.901\n",
      "e: 7/10, b: 2000/7800, l: 1.748\n",
      "e: 7/10, b: 3000/7800, l: 1.106\n",
      "e: 7/10, b: 4000/7800, l: 1.218\n",
      "e: 7/10, b: 5000/7800, l: 1.147\n",
      "e: 7/10, b: 6000/7800, l: 1.13\n",
      "e: 7/10, b: 7000/7800, l: 0.599\n",
      "accuracy: 0.7063862179487179\n",
      "e: 8/10, b: 0/7800, l: 1.007\n",
      "e: 8/10, b: 1000/7800, l: 1.014\n",
      "e: 8/10, b: 2000/7800, l: 0.83\n",
      "e: 8/10, b: 3000/7800, l: 0.786\n",
      "e: 8/10, b: 4000/7800, l: 1.093\n",
      "e: 8/10, b: 5000/7800, l: 1.016\n",
      "e: 8/10, b: 6000/7800, l: 0.884\n",
      "e: 8/10, b: 7000/7800, l: 2.01\n",
      "accuracy: 0.7159294871794872\n",
      "e: 9/10, b: 0/7800, l: 1.178\n",
      "e: 9/10, b: 1000/7800, l: 0.789\n",
      "e: 9/10, b: 2000/7800, l: 1.432\n",
      "e: 9/10, b: 3000/7800, l: 0.903\n",
      "e: 9/10, b: 4000/7800, l: 0.562\n",
      "e: 9/10, b: 5000/7800, l: 0.641\n",
      "e: 9/10, b: 6000/7800, l: 0.957\n",
      "e: 9/10, b: 7000/7800, l: 0.591\n",
      "accuracy: 0.7238701923076923\n",
      "e: 10/10, b: 0/7800, l: 1.492\n",
      "e: 10/10, b: 1000/7800, l: 0.851\n",
      "e: 10/10, b: 2000/7800, l: 0.775\n",
      "e: 10/10, b: 3000/7800, l: 0.784\n",
      "e: 10/10, b: 4000/7800, l: 0.529\n",
      "e: 10/10, b: 5000/7800, l: 1.541\n",
      "e: 10/10, b: 6000/7800, l: 0.781\n",
      "e: 10/10, b: 7000/7800, l: 0.71\n",
      "accuracy: 0.7316426282051282\n"
     ]
    }
   ],
   "execution_count": 9
  },
  {
   "cell_type": "markdown",
   "source": [
    "**Какова точность работы вашей модели?** (макс. 30 баллов)\n",
    "\n",
    "Ваш ответ: \n",
    "\n",
    "\n",
    "Кол-во эпох: 10,\n",
    "Скорость обучения: 0.001,\n",
    "Точность: 0.73"
   ],
   "metadata": {
    "id": "Go0MUsTD3u2x"
   }
  },
  {
   "cell_type": "markdown",
   "source": [
    "## Подбор гиперпараметров\n",
    "\n",
    "Теперь когда у вас есть рабочый код для модели и ее обучения, попробуйте разные варианты скорости обучения, количества параметров в скрытых слоя модели, количества эпох, размера батчей."
   ],
   "metadata": {
    "id": "7Up0yYme3lIi"
   }
  },
  {
   "cell_type": "code",
   "source": [
    "from torch.nn.functional import *\n",
    "\n",
    "def test(epochs, learning_rate):\n",
    "    # Инициализация параметров\n",
    "    w1 = xavier_normal(hidden_size, input_size)\n",
    "    b1 = torch.randn(hidden_size, requires_grad=True)\n",
    "    \n",
    "    w2 = xavier_normal(output_size, hidden_size)\n",
    "    b2 = torch.randn(output_size, requires_grad=True)\n",
    "    \n",
    "    # Функция прямого прохода\n",
    "    def forward(x):\n",
    "        x = x.flatten(start_dim=1)\n",
    "        z1 = linear(x, w1, b1)\n",
    "        a1 = relu(z1)\n",
    "        z2 = linear(a1, w2, b2)\n",
    "        log_probs = log_softmax(z2, dim=1)\n",
    "        return log_probs\n",
    "\n",
    "    correct = 0\n",
    "    for epoch in range(epochs):\n",
    "        correct = 0\n",
    "        for batch_idx, (x, y) in enumerate(train_dataloader):\n",
    "            # Прямой проход\n",
    "            y_pred = forward(x)\n",
    "            loss = nll_loss(y_pred, y)\n",
    "    \n",
    "            # Обратное распространение\n",
    "            loss.backward()\n",
    "    \n",
    "            # Обновление параметров\n",
    "            with torch.no_grad():\n",
    "                w1 -= learning_rate * w1.grad\n",
    "                b1 -= learning_rate * b1.grad\n",
    "                w2 -= learning_rate * w2.grad\n",
    "                b2 -= learning_rate * b2.grad\n",
    "    \n",
    "                # Сброс градиентов\n",
    "                w1.grad.zero_()\n",
    "                b1.grad.zero_()\n",
    "                w2.grad.zero_()\n",
    "                b2.grad.zero_()\n",
    "    \n",
    "            correct += (y_pred.argmax(1) == y).type(torch.float).sum().item()\n",
    "        print(f\"{epoch + 1} / {epochs}\")\n",
    "    return correct / len(train_dataloader.dataset)"
   ],
   "metadata": {
    "id": "62ZM8krd4sq3",
    "ExecuteTime": {
     "end_time": "2025-01-01T20:59:54.548525Z",
     "start_time": "2025-01-01T20:59:54.535410Z"
    }
   },
   "outputs": [],
   "execution_count": 10
  },
  {
   "cell_type": "markdown",
   "source": [
    "**Сколько комбинаций гиперпараметров вы попробовали? Напишите их и точности, которые были при них получены.** (макс. 40 баллов)\n",
    "\n",
    "Ваш ответ: 8 комбинаций.\n",
    "\n",
    "| **№** | **epoch** | **learning_rate** | **accuracy** |\n",
    "|:-----:|:---------:|:-----------------:|:------------:|\n",
    "|   1   |     5     |        0.02       |     0.877    |\n",
    "|   2   |     10    |        0.01       |     0.882    |\n",
    "|   3   |     5     |        0.05       |     0.893    |\n",
    "|   4   |     5     |        0.08       |     0.892    |\n",
    "|   5   |     5     |        0.1        |     0.888    |\n",
    "|   6   |     10    |        0.1        |     0.905    |\n",
    "|   7   |     15    |        0.5        |     0.820    |\n",
    "|   8   |     30    |       0.001       |     0.824    |\n",
    "\n",
    "\n",
    "Наиболее высокая точность у эксперимента №6 - 90% (10 эпох, learning_rate 0.1)\n",
    "Самый худший результат показал эксперимент №7 - 82% (15 эпох, learning_rate 0.5)\n",
    "Также плохой результат показал эксперимент №8 - 82% (30 эпох, learning_rate 0.5)\n",
    "\n",
    "Можно сделать вывод, что многократное повторение одной и той же обучающей выборки не приводит к повышению точности модели.\n",
    "Текущая серия экспериментов показала, что оптимальным является небольшое количество эпох с умеренным шагом обучения.\n",
    "\n"
   ],
   "metadata": {
    "id": "0vSoXjNt4xB8"
   }
  },
  {
   "metadata": {
    "ExecuteTime": {
     "end_time": "2025-01-01T21:00:01.169187Z",
     "start_time": "2025-01-01T20:59:54.551542Z"
    }
   },
   "cell_type": "code",
   "source": "test(5, 0.02)",
   "outputs": [
    {
     "ename": "KeyboardInterrupt",
     "evalue": "",
     "output_type": "error",
     "traceback": [
      "\u001B[0;31m---------------------------------------------------------------------------\u001B[0m",
      "\u001B[0;31mKeyboardInterrupt\u001B[0m                         Traceback (most recent call last)",
      "Cell \u001B[0;32mIn[11], line 1\u001B[0m\n\u001B[0;32m----> 1\u001B[0m \u001B[43mtest\u001B[49m\u001B[43m(\u001B[49m\u001B[38;5;241;43m5\u001B[39;49m\u001B[43m,\u001B[49m\u001B[43m \u001B[49m\u001B[38;5;241;43m0.02\u001B[39;49m\u001B[43m)\u001B[49m\n",
      "Cell \u001B[0;32mIn[10], line 39\u001B[0m, in \u001B[0;36mtest\u001B[0;34m(epochs, learning_rate)\u001B[0m\n\u001B[1;32m     36\u001B[0m b2 \u001B[38;5;241m-\u001B[39m\u001B[38;5;241m=\u001B[39m learning_rate \u001B[38;5;241m*\u001B[39m b2\u001B[38;5;241m.\u001B[39mgrad\n\u001B[1;32m     38\u001B[0m \u001B[38;5;66;03m# Сброс градиентов\u001B[39;00m\n\u001B[0;32m---> 39\u001B[0m \u001B[43mw1\u001B[49m\u001B[38;5;241;43m.\u001B[39;49m\u001B[43mgrad\u001B[49m\u001B[38;5;241;43m.\u001B[39;49m\u001B[43mzero_\u001B[49m\u001B[43m(\u001B[49m\u001B[43m)\u001B[49m\n\u001B[1;32m     40\u001B[0m b1\u001B[38;5;241m.\u001B[39mgrad\u001B[38;5;241m.\u001B[39mzero_()\n\u001B[1;32m     41\u001B[0m w2\u001B[38;5;241m.\u001B[39mgrad\u001B[38;5;241m.\u001B[39mzero_()\n",
      "\u001B[0;31mKeyboardInterrupt\u001B[0m: "
     ]
    }
   ],
   "execution_count": 11
  },
  {
   "metadata": {},
   "cell_type": "code",
   "source": "test(10, 0.01)",
   "outputs": [],
   "execution_count": null
  },
  {
   "cell_type": "code",
   "source": "test(5, 0.05)",
   "metadata": {
    "id": "GXlEiDOACTTF"
   },
   "outputs": [],
   "execution_count": null
  },
  {
   "metadata": {},
   "cell_type": "code",
   "source": "test(5, 0.08)",
   "outputs": [],
   "execution_count": null
  },
  {
   "metadata": {},
   "cell_type": "code",
   "source": "test(5, 0.1)",
   "outputs": [],
   "execution_count": null
  },
  {
   "metadata": {},
   "cell_type": "code",
   "source": "test(10, 0.1)",
   "outputs": [],
   "execution_count": null
  },
  {
   "metadata": {},
   "cell_type": "code",
   "source": "test(15, 0.5)",
   "outputs": [],
   "execution_count": null
  },
  {
   "metadata": {},
   "cell_type": "code",
   "source": "test(30, 0.001)",
   "outputs": [],
   "execution_count": null
  },
  {
   "metadata": {},
   "cell_type": "code",
   "source": "",
   "outputs": [],
   "execution_count": null
  }
 ]
}
